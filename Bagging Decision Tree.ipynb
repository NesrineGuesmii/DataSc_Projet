{
 "cells": [
  {
   "cell_type": "code",
   "execution_count": 11,
   "id": "0d2edaf9",
   "metadata": {},
   "outputs": [],
   "source": [
    "import os\n",
    "import numpy as np\n",
    "import matplotlib.pyplot as plt\n",
    "from pathlib import Path\n",
    "import numpy as np\n",
    "import os\n",
    "import PIL\n",
    "import PIL.Image\n",
    "import tensorflow as tf"
   ]
  },
  {
   "cell_type": "code",
   "execution_count": 12,
   "id": "f4dfacd0",
   "metadata": {},
   "outputs": [],
   "source": [
    "# Chemin vers le dossier contenant les images\n",
    "base_dir = 'C:\\\\Users\\\\aaa\\\\DatasetLivrable1\\\\Livrable1'"
   ]
  },
  {
   "cell_type": "code",
   "execution_count": 13,
   "id": "73de61de",
   "metadata": {},
   "outputs": [],
   "source": [
    "img_height = 28\n",
    "img_width = 28\n",
    "batch_size = 32"
   ]
  },
  {
   "cell_type": "code",
   "execution_count": 14,
   "id": "e177a571",
   "metadata": {},
   "outputs": [
    {
     "name": "stdout",
     "output_type": "stream",
     "text": [
      "Found 41407 files belonging to 5 classes.\n",
      "Using 33126 files for training.\n",
      "Using 8281 files for validation.\n"
     ]
    }
   ],
   "source": [
    "train_set, test_set = tf.keras.preprocessing.image_dataset_from_directory(\n",
    "  base_dir,\n",
    "  validation_split=  0.2,\n",
    "  subset =  \"both\",\n",
    "  seed=42,\n",
    "  image_size=(img_height, img_width),\n",
    "  batch_size=batch_size\n",
    ")\n"
   ]
  },
  {
   "cell_type": "code",
   "execution_count": 16,
   "id": "c652de1e",
   "metadata": {},
   "outputs": [],
   "source": [
    "# Function to show images\n",
    "def show_images(images, labels):\n",
    "    plt.figure(figsize=(10, 5))\n",
    "    for i in range(len(images)):\n",
    "        plt.subplot(1, 5, i + 1)\n",
    "        plt.imshow(images[i].numpy().astype(\"uint8\"))\n",
    "        plt.title(f\"Class: {labels[i]}\")\n",
    "        plt.axis(\"off\")\n",
    "    plt.show()\n"
   ]
  },
  {
   "cell_type": "code",
   "execution_count": 17,
   "id": "8c62953b",
   "metadata": {},
   "outputs": [
    {
     "data": {
      "image/png": "[encoded data removed]",
      "text/plain": [
       "<Figure size 1000x500 with 5 Axes>"
      ]
     },
     "metadata": {},
     "output_type": "display_data"
    }
   ],
   "source": [
    "# Display the first batch of images\n",
    "for images, labels in train_set.take(1):\n",
    "    show_images(images[:5], labels[:5])"
   ]
  },
  {
   "cell_type": "code",
   "execution_count": 18,
   "id": "266fe1da",
   "metadata": {},
   "outputs": [
    {
     "data": {
      "text/plain": [
       "['Painting', 'Photo', 'Schematics', 'Sketch', 'Text']"
      ]
     },
     "execution_count": 18,
     "metadata": {},
     "output_type": "execute_result"
    }
   ],
   "source": [
    "train_set.class_names"
   ]
  },
  {
   "cell_type": "code",
   "execution_count": 19,
   "id": "bd776b8d",
   "metadata": {},
   "outputs": [
    {
     "name": "stdout",
     "output_type": "stream",
     "text": [
      "tf.Tensor(2, shape=(), dtype=int32)\n"
     ]
    }
   ],
   "source": [
    "for images, labels in train_set:\n",
    "    for i in range(2):\n",
    "        print(labels[i])\n",
    "        break\n",
    "    break"
   ]
  },
  {
   "cell_type": "code",
   "execution_count": 20,
   "id": "3768c4d9",
   "metadata": {},
   "outputs": [],
   "source": [
    "images, labels = [], []\n",
    "for image_batch, label_batch in train_set:\n",
    "    images.extend(image_batch.numpy())\n",
    "    labels.extend(label_batch.numpy())\n",
    "\n",
    "for image_batch, label_batch in test_set:\n",
    "    images.extend(image_batch.numpy())\n",
    "    labels.extend(label_batch.numpy())"
   ]
  },
  {
   "cell_type": "code",
   "execution_count": null,
   "id": "d8534522",
   "metadata": {},
   "outputs": [],
   "source": []
  }
 ],
 "metadata": {
  "kernelspec": {
   "display_name": "Python 3 (ipykernel)",
   "language": "python",
   "name": "python3"
  },
  "language_info": {
   "codemirror_mode": {
    "name": "ipython",
    "version": 3
   },
   "file_extension": ".py",
   "mimetype": "text/x-python",
   "name": "python",
   "nbconvert_exporter": "python",
   "pygments_lexer": "ipython3",
   "version": "3.11.5"
  }
 },
 "nbformat": 4,
 "nbformat_minor": 5
}
