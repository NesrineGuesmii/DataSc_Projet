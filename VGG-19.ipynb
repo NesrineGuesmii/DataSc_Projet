{
 "cells": [
  {
   "cell_type": "code",
   "execution_count": 1,
   "id": "ab6483d2-5229-4f9a-b424-5f542a2ba4de",
   "metadata": {},
   "outputs": [],
   "source": [
    "import os\n",
    "import numpy as np\n",
    "import matplotlib.pyplot as plt\n",
    "from sklearn.metrics import accuracy_score, confusion_matrix\n",
    "import seaborn as sns\n",
    "import tensorflow as tf\n",
    "from tensorflow.keras.applications import VGG19\n",
    "from tensorflow.keras import layers, models\n",
    "from tensorflow.keras.models import Sequential\n",
    "from sklearn.model_selection import train_test_split"
   ]
  },
  {
   "cell_type": "code",
   "execution_count": 2,
   "id": "1d5ab5e2-7660-404b-8e3b-846a5796b73c",
   "metadata": {},
   "outputs": [],
   "source": [
    "# Chargement des données\n",
    "base_dir = \"C:/Users/HP PAVILION/DatasetProject/\"\n",
    "img_height = 50  # La taille d'entrée de VGG-19\n",
    "img_width = 50\n",
    "batch_size = 32\n"
   ]
  },
  {
   "cell_type": "code",
   "execution_count": 3,
   "id": "603813ce-4bda-4ff2-9412-f10a2bfdf1bc",
   "metadata": {},
   "outputs": [
    {
     "name": "stdout",
     "output_type": "stream",
     "text": [
      "Found 41387 files belonging to 5 classes.\n",
      "Using 33110 files for training.\n",
      "Using 8277 files for validation.\n"
     ]
    }
   ],
   "source": [
    "train_set, test_set = tf.keras.preprocessing.image_dataset_from_directory(\n",
    "    base_dir,\n",
    "    validation_split=0.2,\n",
    "    subset=\"both\", \n",
    "    seed=42,\n",
    "    image_size=(img_height, img_width),\n",
    "    batch_size=batch_size,\n",
    ")"
   ]
  },
  {
   "cell_type": "code",
   "execution_count": 4,
   "id": "0620b340-b107-42c7-a981-b81d13a1d1e8",
   "metadata": {},
   "outputs": [],
   "source": [
    "# Création du modèle VGG-19 pré-entraîné\n",
    "base_model = VGG19(weights='imagenet', include_top=False, input_shape=(img_height, img_width, 3))"
   ]
  },
  {
   "cell_type": "code",
   "execution_count": 5,
   "id": "a08ae31e-866b-433d-a6ea-9e945ee75805",
   "metadata": {},
   "outputs": [],
   "source": [
    "images_train, labels_train = next(iter(train_set))\n",
    "images_test, labels_test = next(iter(test_set))"
   ]
  },
  {
   "cell_type": "code",
   "execution_count": 6,
   "id": "ae409cef-514c-4fbe-bd5e-4fef1603e8f7",
   "metadata": {},
   "outputs": [],
   "source": [
    "X_train = images_train.numpy()\n",
    "X_test = images_test.numpy()\n",
    "\n",
    "Y_train = labels_train.numpy()\n",
    "Y_test = labels_test.numpy()"
   ]
  },
  {
   "cell_type": "code",
   "execution_count": 7,
   "id": "d129c416-27b8-4443-86ce-f3c74aa0b920",
   "metadata": {},
   "outputs": [],
   "source": [
    "Y_test[Y_test != 1] = 0\n",
    "Y_train[Y_train != 1] = 0"
   ]
  },
  {
   "cell_type": "code",
   "execution_count": 8,
   "id": "8e1564bf-3aaf-4093-a35b-846ca0551db3",
   "metadata": {},
   "outputs": [],
   "source": [
    "base_model.trainable = False"
   ]
  },
  {
   "cell_type": "code",
   "execution_count": 9,
   "id": "6874c494-52fd-4038-9d3f-6919dcf1ff68",
   "metadata": {},
   "outputs": [],
   "source": [
    "out = base_model.output\n",
    "x = layers.Flatten()(out)\n",
    "x = layers.Dense(128, activation='relu')(x)\n",
    "x = layers.Dropout(0.5)(x)\n",
    "x = layers.Dense(128, activation='relu')(x)\n",
    "x = layers.Dense(128, activation='relu')(x)\n",
    "x = layers.Dropout(0.5)(x)\n",
    "x = layers.Dense(128, activation='relu')(x)\n",
    "x = layers.Dense(1, activation='sigmoid')(x)\n",
    "model = tf.keras.models.Model(inputs=base_model.input, outputs=x)"
   ]
  },
  {
   "cell_type": "code",
   "execution_count": 10,
   "id": "0e6f6a30-99f1-43f0-ae4e-24fdefe94ee4",
   "metadata": {},
   "outputs": [
    {
     "name": "stdout",
     "output_type": "stream",
     "text": [
      "Model: \"model\"\n",
      "_________________________________________________________________\n",
      " Layer (type)                Output Shape              Param #   \n",
      "=================================================================\n",
      " input_1 (InputLayer)        [(None, 50, 50, 3)]       0         \n",
      "                                                                 \n",
      " block1_conv1 (Conv2D)       (None, 50, 50, 64)        1792      \n",
      "                                                                 \n",
      " block1_conv2 (Conv2D)       (None, 50, 50, 64)        36928     \n",
      "                                                                 \n",
      " block1_pool (MaxPooling2D)  (None, 25, 25, 64)        0         \n",
      "                                                                 \n",
      " block2_conv1 (Conv2D)       (None, 25, 25, 128)       73856     \n",
      "                                                                 \n",
      " block2_conv2 (Conv2D)       (None, 25, 25, 128)       147584    \n",
      "                                                                 \n",
      " block2_pool (MaxPooling2D)  (None, 12, 12, 128)       0         \n",
      "                                                                 \n",
      " block3_conv1 (Conv2D)       (None, 12, 12, 256)       295168    \n",
      "                                                                 \n",
      " block3_conv2 (Conv2D)       (None, 12, 12, 256)       590080    \n",
      "                                                                 \n",
      " block3_conv3 (Conv2D)       (None, 12, 12, 256)       590080    \n",
      "                                                                 \n",
      " block3_conv4 (Conv2D)       (None, 12, 12, 256)       590080    \n",
      "                                                                 \n",
      " block3_pool (MaxPooling2D)  (None, 6, 6, 256)         0         \n",
      "                                                                 \n",
      " block4_conv1 (Conv2D)       (None, 6, 6, 512)         1180160   \n",
      "                                                                 \n",
      " block4_conv2 (Conv2D)       (None, 6, 6, 512)         2359808   \n",
      "                                                                 \n",
      " block4_conv3 (Conv2D)       (None, 6, 6, 512)         2359808   \n",
      "                                                                 \n",
      " block4_conv4 (Conv2D)       (None, 6, 6, 512)         2359808   \n",
      "                                                                 \n",
      " block4_pool (MaxPooling2D)  (None, 3, 3, 512)         0         \n",
      "                                                                 \n",
      " block5_conv1 (Conv2D)       (None, 3, 3, 512)         2359808   \n",
      "                                                                 \n",
      " block5_conv2 (Conv2D)       (None, 3, 3, 512)         2359808   \n",
      "                                                                 \n",
      " block5_conv3 (Conv2D)       (None, 3, 3, 512)         2359808   \n",
      "                                                                 \n",
      " block5_conv4 (Conv2D)       (None, 3, 3, 512)         2359808   \n",
      "                                                                 \n",
      " block5_pool (MaxPooling2D)  (None, 1, 1, 512)         0         \n",
      "                                                                 \n",
      " flatten (Flatten)           (None, 512)               0         \n",
      "                                                                 \n",
      " dense (Dense)               (None, 128)               65664     \n",
      "                                                                 \n",
      " dropout (Dropout)           (None, 128)               0         \n",
      "                                                                 \n",
      " dense_1 (Dense)             (None, 128)               16512     \n",
      "                                                                 \n",
      " dense_2 (Dense)             (None, 128)               16512     \n",
      "                                                                 \n",
      " dropout_1 (Dropout)         (None, 128)               0         \n",
      "                                                                 \n",
      " dense_3 (Dense)             (None, 128)               16512     \n",
      "                                                                 \n",
      " dense_4 (Dense)             (None, 1)                 129       \n",
      "                                                                 \n",
      "=================================================================\n",
      "Total params: 20,139,713\n",
      "Trainable params: 115,329\n",
      "Non-trainable params: 20,024,384\n",
      "_________________________________________________________________\n"
     ]
    }
   ],
   "source": [
    "model.compile(optimizer='adam', loss=tf.keras.losses.BinaryCrossentropy(from_logits=True), metrics=['accuracy'])\n",
    "model.summary()"
   ]
  },
  {
   "cell_type": "code",
   "execution_count": 12,
   "id": "d16c9e83-1c9f-4e9f-aba7-c29e86f04351",
   "metadata": {},
   "outputs": [
    {
     "name": "stdout",
     "output_type": "stream",
     "text": [
      "Epoch 1/10\n",
      "1/1 [==============================] - 1s 636ms/step - loss: 1.5292 - accuracy: 0.6875 - val_loss: 0.7792 - val_accuracy: 0.6875\n",
      "Epoch 2/10\n",
      "1/1 [==============================] - 0s 468ms/step - loss: 2.1006 - accuracy: 0.5625 - val_loss: 0.7929 - val_accuracy: 0.7188\n",
      "Epoch 3/10\n",
      "1/1 [==============================] - 1s 539ms/step - loss: 0.7407 - accuracy: 0.7812 - val_loss: 0.8081 - val_accuracy: 0.7188\n",
      "Epoch 4/10\n",
      "1/1 [==============================] - 1s 558ms/step - loss: 1.6045 - accuracy: 0.6562 - val_loss: 0.8227 - val_accuracy: 0.7188\n",
      "Epoch 5/10\n",
      "1/1 [==============================] - 0s 449ms/step - loss: 1.5265 - accuracy: 0.6562 - val_loss: 0.8285 - val_accuracy: 0.7188\n",
      "Epoch 6/10\n",
      "1/1 [==============================] - 1s 562ms/step - loss: 1.5346 - accuracy: 0.6875 - val_loss: 0.8180 - val_accuracy: 0.7188\n"
     ]
    }
   ],
   "source": [
    "import datetime\n",
    "\n",
    "epochs = 10\n",
    "early_stopping = tf.keras.callbacks.EarlyStopping(monitor='val_loss', patience=5, restore_best_weights=True)  \n",
    "history = model.fit(X_train, Y_train, epochs=epochs,  validation_data=(X_test, Y_test),  callbacks=[early_stopping])"
   ]
  },
  {
   "cell_type": "code",
   "execution_count": 13,
   "id": "ffc7da58-81a0-4f5c-a78c-d7ed37df2797",
   "metadata": {},
   "outputs": [],
   "source": [
    "# save weights \n",
    "model.save_weights('./vgg19-' + datetime.datetime.now().strftime(\"%Y%m%d-%H%M%S\") + '.5.h5')\n",
    "\n",
    "acc = history.history['accuracy']\n",
    "val_acc = history.history['val_accuracy']\n",
    "\n",
    "loss = history.history['loss']\n",
    "val_loss = history.history['val_loss']\n",
    "\n",
    "epochs_range = range(epochs)"
   ]
  },
  {
   "cell_type": "code",
   "execution_count": 14,
   "id": "df063992-c6c9-43b8-a740-4c50b7f66ffe",
   "metadata": {},
   "outputs": [
    {
     "data": {
      "image/png": "[encoded data removed]",
      "text/plain": [
       "<Figure size 1600x800 with 2 Axes>"
      ]
     },
     "metadata": {},
     "output_type": "display_data"
    }
   ],
   "source": [
    "plt.figure(figsize=(16, 8))\n",
    "plt.subplot(1, 2, 1)\n",
    "plt.plot(range(6), acc, label='Training Accuracy')\n",
    "plt.plot(range(6), val_acc, label='Validation Accuracy')\n",
    "plt.legend(loc='lower right')\n",
    "plt.title('Training and Validation Accuracy')\n",
    "\n",
    "plt.subplot(1, 2, 2)\n",
    "plt.plot(range(6), loss, label='Training Loss')\n",
    "plt.plot(range(6), val_loss, label='Validation Loss')\n",
    "plt.legend(loc='upper right')\n",
    "plt.title('Training and Validation Loss')\n",
    "plt.show()"
   ]
  },
  {
   "cell_type": "code",
   "execution_count": 15,
   "id": "92e3a4b2-f4cc-430f-890c-bc99fa0b9b07",
   "metadata": {},
   "outputs": [],
   "source": [
    "from tensorflow.keras.preprocessing.image import ImageDataGenerator\n",
    "\n",
    "\n",
    "datagen = ImageDataGenerator(\n",
    "    rescale=1./255,\n",
    "    shear_range=0.2,\n",
    "    zoom_range=0.2,\n",
    "    horizontal_flip=True\n",
    ")\n",
    "val_datagen = ImageDataGenerator(rescale=1./255)\n",
    "\n",
    "train_generator = datagen.flow(\n",
    "    images_train,\n",
    "    labels_train,\n",
    "    batch_size=32,\n",
    ")\n",
    "\n",
    "val_generator = datagen.flow(\n",
    "    images_test,\n",
    "    labels_test,\n",
    "    batch_size=32,\n",
    ")"
   ]
  },
  {
   "cell_type": "code",
   "execution_count": 17,
   "id": "d5a15b64-549e-4e6b-8837-4848d5c39343",
   "metadata": {},
   "outputs": [
    {
     "name": "stdout",
     "output_type": "stream",
     "text": [
      "Epoch 1/10\n",
      "1/1 [==============================] - 1s 564ms/step - loss: 0.6456 - accuracy: 0.2812 - val_loss: 0.5777 - val_accuracy: 0.2812\n",
      "Epoch 2/10\n",
      "1/1 [==============================] - 1s 565ms/step - loss: 0.6284 - accuracy: 0.2188 - val_loss: 0.5007 - val_accuracy: 0.2500\n",
      "Epoch 3/10\n",
      "1/1 [==============================] - 1s 610ms/step - loss: 0.3200 - accuracy: 0.2812 - val_loss: 0.4089 - val_accuracy: 0.2500\n",
      "Epoch 4/10\n",
      "1/1 [==============================] - 1s 640ms/step - loss: 0.3135 - accuracy: 0.3125 - val_loss: 0.3506 - val_accuracy: 0.2500\n",
      "Epoch 5/10\n",
      "1/1 [==============================] - 1s 650ms/step - loss: 0.2523 - accuracy: 0.2812 - val_loss: 0.2530 - val_accuracy: 0.2500\n",
      "Epoch 6/10\n",
      "1/1 [==============================] - 1s 780ms/step - loss: 0.0543 - accuracy: 0.2812 - val_loss: 0.1847 - val_accuracy: 0.2500\n",
      "Epoch 7/10\n",
      "1/1 [==============================] - 1s 686ms/step - loss: -0.0234 - accuracy: 0.2812 - val_loss: 0.0789 - val_accuracy: 0.2500\n",
      "Epoch 8/10\n",
      "1/1 [==============================] - 1s 914ms/step - loss: -0.1004 - accuracy: 0.2812 - val_loss: -0.0081 - val_accuracy: 0.2500\n",
      "Epoch 9/10\n",
      "1/1 [==============================] - 2s 2s/step - loss: -0.2281 - accuracy: 0.2812 - val_loss: -0.1278 - val_accuracy: 0.2500\n",
      "Epoch 10/10\n",
      "1/1 [==============================] - 1s 993ms/step - loss: -0.3944 - accuracy: 0.2812 - val_loss: -0.2777 - val_accuracy: 0.2500\n"
     ]
    }
   ],
   "source": [
    "history_2 = model.fit(train_generator, epochs=epochs,  validation_data=val_generator,  callbacks=[early_stopping])\n",
    "# save weights \n",
    "model.save_weights('./vgg19-with-data-augmentation-' + datetime.datetime.now().strftime(\"%Y%m%d-%H%M%S\") + '.5.h5')"
   ]
  },
  {
   "cell_type": "code",
   "execution_count": 18,
   "id": "c368a68e-7f7d-4897-b120-fddb093e1b0d",
   "metadata": {},
   "outputs": [],
   "source": [
    "from tensorflow.keras.applications import EfficientNetB0"
   ]
  },
  {
   "cell_type": "code",
   "execution_count": 19,
   "id": "1c7f90fe-8cec-45ae-a43e-9a9653cbc797",
   "metadata": {},
   "outputs": [],
   "source": [
    "base_model = EfficientNetB0(weights='imagenet', include_top=False, input_shape=(img_height, img_width, 3))"
   ]
  },
  {
   "cell_type": "code",
   "execution_count": 20,
   "id": "77922027-6662-4483-8a3b-16eb9a07356e",
   "metadata": {},
   "outputs": [],
   "source": [
    "model = Sequential()\n",
    "model.add(base_model)\n",
    "model.add(layers.Flatten())\n",
    "model.add(layers.Dense(256, activation='relu'))\n",
    "model.add(layers.Dropout(0.5))\n",
    "model.add(layers.Dense(256, activation='relu'))\n",
    "model.add(layers.Dense(1, activation='sigmoid'))"
   ]
  },
  {
   "cell_type": "code",
   "execution_count": 21,
   "id": "e7c6c74c-f2cb-4d22-89d1-c763c47373f6",
   "metadata": {},
   "outputs": [
    {
     "name": "stdout",
     "output_type": "stream",
     "text": [
      "Model: \"sequential\"\n",
      "_________________________________________________________________\n",
      " Layer (type)                Output Shape              Param #   \n",
      "=================================================================\n",
      " efficientnetb0 (Functional)  (None, 2, 2, 1280)       4049571   \n",
      "                                                                 \n",
      " flatten_1 (Flatten)         (None, 5120)              0         \n",
      "                                                                 \n",
      " dense_5 (Dense)             (None, 256)               1310976   \n",
      "                                                                 \n",
      " dropout_2 (Dropout)         (None, 256)               0         \n",
      "                                                                 \n",
      " dense_6 (Dense)             (None, 256)               65792     \n",
      "                                                                 \n",
      " dense_7 (Dense)             (None, 1)                 257       \n",
      "                                                                 \n",
      "=================================================================\n",
      "Total params: 5,426,596\n",
      "Trainable params: 5,384,573\n",
      "Non-trainable params: 42,023\n",
      "_________________________________________________________________\n"
     ]
    }
   ],
   "source": [
    "model.compile(optimizer='adam', loss=tf.keras.losses.BinaryCrossentropy(), metrics=['accuracy'])\n",
    "model.summary()"
   ]
  },
  {
   "cell_type": "code",
   "execution_count": 22,
   "id": "d7d21ba0-6848-4e58-936c-0c67c8c653e3",
   "metadata": {},
   "outputs": [
    {
     "name": "stdout",
     "output_type": "stream",
     "text": [
      "Epoch 1/10\n",
      "1/1 [==============================] - 15s 15s/step - loss: 0.6056 - accuracy: 0.7188 - val_loss: 0.5792 - val_accuracy: 0.7188\n",
      "Epoch 2/10\n",
      "1/1 [==============================] - 1s 1s/step - loss: 0.2679 - accuracy: 0.9062 - val_loss: 0.5530 - val_accuracy: 0.7188\n",
      "Epoch 3/10\n",
      "1/1 [==============================] - 2s 2s/step - loss: 0.1781 - accuracy: 0.9688 - val_loss: 0.5377 - val_accuracy: 0.7188\n",
      "Epoch 4/10\n",
      "1/1 [==============================] - 1s 934ms/step - loss: 0.0562 - accuracy: 1.0000 - val_loss: 0.5229 - val_accuracy: 0.7188\n",
      "Epoch 5/10\n",
      "1/1 [==============================] - 1s 991ms/step - loss: 0.0359 - accuracy: 1.0000 - val_loss: 0.5072 - val_accuracy: 0.7188\n",
      "Epoch 6/10\n",
      "1/1 [==============================] - 1s 766ms/step - loss: 0.0077 - accuracy: 1.0000 - val_loss: 0.5004 - val_accuracy: 0.7500\n",
      "Epoch 7/10\n",
      "1/1 [==============================] - 1s 1s/step - loss: 0.0065 - accuracy: 1.0000 - val_loss: 0.4989 - val_accuracy: 0.8125\n",
      "Epoch 8/10\n",
      "1/1 [==============================] - 2s 2s/step - loss: 0.0020 - accuracy: 1.0000 - val_loss: 0.5038 - val_accuracy: 0.8125\n",
      "Epoch 9/10\n",
      "1/1 [==============================] - 2s 2s/step - loss: 7.2385e-04 - accuracy: 1.0000 - val_loss: 0.5168 - val_accuracy: 0.7812\n",
      "Epoch 10/10\n",
      "1/1 [==============================] - 2s 2s/step - loss: 7.8518e-04 - accuracy: 1.0000 - val_loss: 0.5363 - val_accuracy: 0.7500\n"
     ]
    }
   ],
   "source": [
    "history_3 = model.fit(X_train, Y_train, epochs=epochs,  validation_data=(X_test, Y_test),  callbacks=[early_stopping])\n",
    "# save weights \n",
    "model.save_weights('./efficientB0-' + datetime.datetime.now().strftime(\"%Y%m%d-%H%M%S\") + '.5.h5')"
   ]
  },
  {
   "cell_type": "code",
   "execution_count": 23,
   "id": "8758a14c-120a-4a0c-9ece-c7a625daf8ef",
   "metadata": {},
   "outputs": [],
   "source": [
    "from tensorflow.keras.applications import EfficientNetB7\n",
    "improve_model = EfficientNetB7(weights='imagenet', include_top=False, input_shape=(img_height, img_width, 3))"
   ]
  },
  {
   "cell_type": "code",
   "execution_count": 24,
   "id": "04b28bf4-9e75-4619-9e8c-418b5b4fe666",
   "metadata": {},
   "outputs": [
    {
     "name": "stdout",
     "output_type": "stream",
     "text": [
      "Model: \"sequential_1\"\n",
      "_________________________________________________________________\n",
      " Layer (type)                Output Shape              Param #   \n",
      "=================================================================\n",
      " efficientnetb7 (Functional)  (None, 2, 2, 2560)       64097687  \n",
      "                                                                 \n",
      " flatten_2 (Flatten)         (None, 10240)             0         \n",
      "                                                                 \n",
      " dense_8 (Dense)             (None, 256)               2621696   \n",
      "                                                                 \n",
      " dropout_3 (Dropout)         (None, 256)               0         \n",
      "                                                                 \n",
      " dense_9 (Dense)             (None, 1)                 257       \n",
      "                                                                 \n",
      "=================================================================\n",
      "Total params: 66,719,640\n",
      "Trainable params: 66,408,913\n",
      "Non-trainable params: 310,727\n",
      "_________________________________________________________________\n"
     ]
    }
   ],
   "source": [
    "model2 = Sequential()\n",
    "model2.add(improve_model)\n",
    "model2.add(layers.Flatten())\n",
    "model2.add(layers.Dense(256, activation='relu'))\n",
    "model2.add(layers.Dropout(0.5))\n",
    "model2.add(layers.Dense(1, activation='sigmoid'))\n",
    "model2.compile(optimizer='adam', loss=tf.keras.losses.BinaryCrossentropy(from_logits=True), metrics=['accuracy'])\n",
    "model2.summary()"
   ]
  },
  {
   "cell_type": "code",
   "execution_count": 26,
   "id": "6408c643-4e75-4988-9eef-9177589761c6",
   "metadata": {},
   "outputs": [
    {
     "name": "stdout",
     "output_type": "stream",
     "text": [
      "Epoch 1/10\n",
      "1/1 [==============================] - 53s 53s/step - loss: 0.9401 - accuracy: 0.3750 - val_loss: 0.5894 - val_accuracy: 0.7500\n",
      "Epoch 2/10\n",
      "1/1 [==============================] - 11s 11s/step - loss: 0.7197 - accuracy: 0.7500 - val_loss: 0.8139 - val_accuracy: 0.7500\n",
      "Epoch 3/10\n",
      "1/1 [==============================] - 7s 7s/step - loss: 0.0936 - accuracy: 1.0000 - val_loss: 0.9806 - val_accuracy: 0.7500\n",
      "Epoch 4/10\n",
      "1/1 [==============================] - 5s 5s/step - loss: 0.0503 - accuracy: 0.9688 - val_loss: 1.0873 - val_accuracy: 0.7500\n",
      "Epoch 5/10\n",
      "1/1 [==============================] - 6s 6s/step - loss: 0.0024 - accuracy: 1.0000 - val_loss: 1.1794 - val_accuracy: 0.7500\n",
      "Epoch 6/10\n",
      "1/1 [==============================] - 6s 6s/step - loss: 5.0310e-04 - accuracy: 1.0000 - val_loss: 1.2602 - val_accuracy: 0.7500\n"
     ]
    }
   ],
   "source": [
    "history_4 = model2.fit(X_train, Y_train, epochs=epochs,  validation_data=(X_test, Y_test),  callbacks=[early_stopping])\n",
    "# save weights \n",
    "model2.save_weights('./efficientB7-' + datetime.datetime.now().strftime(\"%Y%m%d-%H%M%S\") + '.5.h5')"
   ]
  },
  {
   "cell_type": "code",
   "execution_count": null,
   "id": "06778d8f-7046-4f3d-8bab-0660c54a8907",
   "metadata": {},
   "outputs": [],
   "source": []
  }
 ],
 "metadata": {
  "kernelspec": {
   "display_name": "Python 3 (ipykernel)",
   "language": "python",
   "name": "python3"
  },
  "language_info": {
   "codemirror_mode": {
    "name": "ipython",
    "version": 3
   },
   "file_extension": ".py",
   "mimetype": "text/x-python",
   "name": "python",
   "nbconvert_exporter": "python",
   "pygments_lexer": "ipython3",
   "version": "3.10.13"
  }
 },
 "nbformat": 4,
 "nbformat_minor": 5
}
