{
 "cells": [
  {
   "cell_type": "markdown",
   "id": "a651f58a-742b-4038-bc82-d92288e77cd5",
   "metadata": {},
   "source": [
    "# Importation des bibliothèques"
   ]
  },
  {
   "cell_type": "code",
   "execution_count": 7,
   "id": "c9be6056-6de5-4cc3-abb7-5102de96ed99",
   "metadata": {},
   "outputs": [],
   "source": [
    "import os\n",
    "import numpy as np\n",
    "import matplotlib.pyplot as plt\n",
    "from sklearn.ensemble import BaggingClassifier\n",
    "from sklearn.tree import DecisionTreeClassifier\n",
    "from sklearn.metrics import accuracy_score\n",
    "import tensorflow as tf"
   ]
  },
  {
   "cell_type": "markdown",
   "id": "53bf5276-1ead-4022-9acb-51772e192488",
   "metadata": {},
   "source": [
    "# Configuration des paramètres "
   ]
  },
  {
   "cell_type": "code",
   "execution_count": 8,
   "id": "d5e48d21-d675-4f58-9967-caec6472003e",
   "metadata": {},
   "outputs": [],
   "source": [
    "base_dir = \"./Livrable 1\"\n",
    "img_height = 28\n",
    "img_width = 28\n",
    "batch_size = 32\n"
   ]
  },
  {
   "cell_type": "markdown",
   "id": "3885fce0-4a11-4c2f-9096-8c965bf2575a",
   "metadata": {},
   "source": [
    "# Chargement du jeu de données d'images"
   ]
  },
  {
   "cell_type": "markdown",
   "id": "471aa5d9-c944-4068-bc5d-23cefd4e4db9",
   "metadata": {},
   "source": [
    "1- validation_split : Divise automatiquement le jeu de données en ensembles d'entraînement et de validation, ici configuré pour 20% de validation.\n",
    "\n",
    "2- subset : L'option \"both\" est sélectionnée pour inclure à la fois les ensembles d'entraînement et de validation.\n",
    "\n",
    "3- seed : Utilisé pour garantir la reproductibilité, fixé à 42.\n",
    "\n",
    "4- image_size : Définit la taille des images à (28, 28), correspondant aux valeurs définies précédemment.\n",
    "\n",
    "5- batch_size : Utilisé pour spécifier la taille des mini-lots lors de l'entraînement du modèle, reprenant la valeur définie précédemment.\n",
    "\n",
    "\n",
    "Les ensembles d'entraînement et de test résultants sont stockés dans les variables train_set et test_set."
   ]
  },
  {
   "cell_type": "code",
   "execution_count": 9,
   "id": "28b74740-9ed3-4f68-a8fa-52967d4bb4f3",
   "metadata": {},
   "outputs": [
    {
     "name": "stdout",
     "output_type": "stream",
     "text": [
      "Found 41407 files belonging to 5 classes.\n",
      "Using 33126 files for training.\n",
      "Using 8281 files for validation.\n"
     ]
    }
   ],
   "source": [
    "train_set, test_set = tf.keras.preprocessing.image_dataset_from_directory(\n",
    "    base_dir,\n",
    "    validation_split=0.2,\n",
    "    subset=\"both\",\n",
    "    seed=42,\n",
    "    image_size=(img_height, img_width),\n",
    "    batch_size=batch_size,\n",
    ")"
   ]
  },
  {
   "cell_type": "markdown",
   "id": "bf28bd0e-dd69-4bb1-b79c-461853e13ad2",
   "metadata": {},
   "source": [
    "# Extraction d'un lot d'images et de labels pour l'entraînement et les tests"
   ]
  },
  {
   "cell_type": "code",
   "execution_count": 10,
   "id": "87c2fd2f-5191-4fe2-8d04-da00949ec7b3",
   "metadata": {},
   "outputs": [],
   "source": [
    "img_train, labels_train = next(iter(train_set))\n",
    "img_test, labels_test = next(iter(test_set))"
   ]
  },
  {
   "cell_type": "markdown",
   "id": "90cf5dca-caa0-4ffe-a484-13cd4d66c656",
   "metadata": {},
   "source": [
    "# Conversion des données d'images en tableaux NumPy"
   ]
  },
  {
   "cell_type": "markdown",
   "id": "27953b23-88cb-4e0f-b302-8f1704c70d4e",
   "metadata": {},
   "source": [
    "Cette cellule convertit les données d'images extraites des ensembles d'entraînement (img_train) et de test (img_test) en tableaux NumPy.\n",
    "\n",
    "Les tableaux résultants sont stockés dans les variables X_train pour les données d'entraînement et X_test pour les données de test. \n",
    "\n",
    "Cette conversion en tableaux NumPy peut être utile pour travailler avec certaines bibliothèques ou opérations spécifiques nécessitant ce format de données."
   ]
  },
  {
   "cell_type": "code",
   "execution_count": 11,
   "id": "42dadf3f-146f-464d-872f-5310421ba188",
   "metadata": {},
   "outputs": [],
   "source": [
    "X_train = img_train.numpy()\n",
    "X_test = img_test.numpy()"
   ]
  },
  {
   "cell_type": "markdown",
   "id": "b000a51e-8f52-4cf0-8539-312a09a5d373",
   "metadata": {},
   "source": [
    "# Conversion des Labels en tableaux NumPy"
   ]
  },
  {
   "cell_type": "markdown",
   "id": "e1f07908-08d8-463e-b8e8-910cc1234e21",
   "metadata": {},
   "source": [
    "Cette cellule convertit les labels associées aux images des ensembles d'entraînement (labels_train) et de test (labels_test) en tableaux NumPy. \n",
    "\n",
    "Les tableaux résultants sont stockés dans les variables Y_train pour les étiquettes d'entraînement et Y_test pour les étiquettes de test.\n",
    "\n",
    "La conversion en tableaux NumPy facilite le traitement ultérieur des étiquettes, notamment lors de l'évaluation des performances du modèle."
   ]
  },
  {
   "cell_type": "code",
   "execution_count": 12,
   "id": "1a1cec19-3e77-43cb-a0cb-e5802d5e2189",
   "metadata": {},
   "outputs": [],
   "source": [
    "Y_train = labels_train.numpy()\n",
    "Y_test = labels_test.numpy()"
   ]
  },
  {
   "cell_type": "markdown",
   "id": "9b3a2052-ff28-4104-b40a-1938e38ff849",
   "metadata": {},
   "source": [
    "# Réorganisation des données d'entraînement"
   ]
  },
  {
   "cell_type": "markdown",
   "id": "1e77d88f-46c1-4a87-bf99-7c30fba37850",
   "metadata": {},
   "source": [
    "Cette cellule remodèle les données d'entraînement (X_train) en un tableau à deux dimensions. La méthode reshape est utilisée pour transformer les données en un tableau où chaque ligne correspond à une image aplatie (sous forme de vecteur), et chaque colonne représente les différentes valeurs de pixels.\n",
    "\n",
    "X : Contient les données d'entraînement remodelées, où chaque ligne correspond à une image aplatie.\n",
    "\n",
    "Y : Contient les étiquettes correspondantes aux données d'entraînement.\n"
   ]
  },
  {
   "cell_type": "code",
   "execution_count": 13,
   "id": "3b700594-e2b8-4762-b468-95bfabae1df5",
   "metadata": {},
   "outputs": [],
   "source": [
    "X = X_train.reshape(X_train.shape[0], -1)\n",
    "Y = Y_train"
   ]
  },
  {
   "cell_type": "markdown",
   "id": "01c1db6c-57bd-4502-881d-284edc012b85",
   "metadata": {},
   "source": [
    "# Binaire de classification des Labels"
   ]
  },
  {
   "cell_type": "markdown",
   "id": "32877682-8371-4f69-8254-76d3fc3f1d7a",
   "metadata": {},
   "source": [
    "Cette cellule modifie les étiquettes d'entraînement (Y) en un format binaire pour une tâche de classification binaire. Toutes les valeurs différentes de 1 sont changées à 0, transformant ainsi le problème en une tâche de classification binaire où l'objectif est de distinguer les exemples de la classe 1 des autres."
   ]
  },
  {
   "cell_type": "code",
   "execution_count": 14,
   "id": "7860e801-02d8-4809-9417-b3ad4d7d05e8",
   "metadata": {},
   "outputs": [],
   "source": [
    "Y[Y != 1] = 0"
   ]
  },
  {
   "cell_type": "markdown",
   "id": "3194c60d-90c4-471d-8cfd-2c5b817f0c47",
   "metadata": {},
   "source": [
    "# Prétraitement des données de test pour la classification binaire"
   ]
  },
  {
   "cell_type": "markdown",
   "id": "19de061c-52a6-4262-90b0-ca7c0d202f38",
   "metadata": {},
   "source": [
    "Cette cellule remodèle les données de test (X_test) en un tableau à deux dimensions, adapté pour une utilisation dans une tâche de classification binaire. \n",
    "\n",
    "De plus, elle modifie les étiquettes de test (Y_test), les transformant en un format binaire où toutes les valeurs différentes de 1 sont changées à 0. \n",
    "\n",
    "Ces étapes de prétraitement sont essentielles pour préparer les données de test en vue de l'évaluation d'un modèle de classification binaire."
   ]
  },
  {
   "cell_type": "code",
   "execution_count": 15,
   "id": "0a214b73-c003-4cc5-a945-561b50f04f7d",
   "metadata": {},
   "outputs": [],
   "source": [
    "X_test = X_test.reshape(X_train.shape[0], -1)\n",
    "Y_test[Y_test != 1] = 0"
   ]
  },
  {
   "cell_type": "markdown",
   "id": "96da2723-3ebb-4c1f-8cd3-e2889ff34846",
   "metadata": {},
   "source": [
    "# Configuration des classificateurs pour l'ensemble Bagging"
   ]
  },
  {
   "cell_type": "markdown",
   "id": "6403da7f-38b2-4c4e-a45f-e79bd1f070f3",
   "metadata": {},
   "source": [
    "Cette cellule crée deux classificateurs. Le premier, \"base_classifier\", est un arbre de décision avec une profondeur maximale de 4 et une graine aléatoire fixée à 42. \n",
    "\n",
    "Le second, \"bagging_classifier\", est un classificateur Bagging utilisant le base_classifier comme estimateur de base, avec 100 estimateurs (arbres de décision) et une graine aléatoire fixée à 42 également. \n",
    "\n",
    "Ces classificateurs sont configurés pour être utilisés dans un ensemble Bagging, une technique d'ensemble qui combine plusieurs modèles pour améliorer la performance prédictive et réduire le surajustement."
   ]
  },
  {
   "cell_type": "code",
   "execution_count": 16,
   "id": "768b0072-f6f3-4e31-b2e9-92c1094f9e37",
   "metadata": {},
   "outputs": [],
   "source": [
    "base_classifier = DecisionTreeClassifier(max_depth=4, random_state=42)\n",
    "bagging_classifier = BaggingClassifier(base_classifier, n_estimators=100, random_state=42)"
   ]
  },
  {
   "cell_type": "markdown",
   "id": "d2582b4c-41dd-4998-82f4-2ea23e26545c",
   "metadata": {},
   "source": [
    "# Entraînement de l'ensemble Bagging"
   ]
  },
  {
   "cell_type": "markdown",
   "id": "6b1e5b15-5b7d-48e6-bd48-4e543b8b05a8",
   "metadata": {},
   "source": [
    "Cette cellule utilise la méthode fit pour entraîner le classificateur Bagging (bagging_classifier) sur les données d'entraînement. \n",
    "\n",
    "Les données d'entraînement (X) et les étiquettes correspondantes (Y) sont utilisées pour former l'ensemble Bagging, qui consiste en un ensemble de classificateurs basés sur des arbres de décision. \n",
    "\n",
    "Ce processus permet au modèle d'apprendre à partir des exemples d'entraînement et d'acquérir la capacité de généraliser à de nouvelles données."
   ]
  },
  {
   "cell_type": "code",
   "execution_count": 17,
   "id": "555f21c1-9143-48fd-9290-15dd050bc593",
   "metadata": {},
   "outputs": [
    {
     "data": {
      "text/html": [
       "<style>#sk-container-id-1 {color: black;}#sk-container-id-1 pre{padding: 0;}#sk-container-id-1 div.sk-toggleable {background-color: white;}#sk-container-id-1 label.sk-toggleable__label {cursor: pointer;display: block;width: 100%;margin-bottom: 0;padding: 0.3em;box-sizing: border-box;text-align: center;}#sk-container-id-1 label.sk-toggleable__label-arrow:before {content: \"▸\";float: left;margin-right: 0.25em;color: #696969;}#sk-container-id-1 label.sk-toggleable__label-arrow:hover:before {color: black;}#sk-container-id-1 div.sk-estimator:hover label.sk-toggleable__label-arrow:before {color: black;}#sk-container-id-1 div.sk-toggleable__content {max-height: 0;max-width: 0;overflow: hidden;text-align: left;background-color: #f0f8ff;}#sk-container-id-1 div.sk-toggleable__content pre {margin: 0.2em;color: black;border-radius: 0.25em;background-color: #f0f8ff;}#sk-container-id-1 input.sk-toggleable__control:checked~div.sk-toggleable__content {max-height: 200px;max-width: 100%;overflow: auto;}#sk-container-id-1 input.sk-toggleable__control:checked~label.sk-toggleable__label-arrow:before {content: \"▾\";}#sk-container-id-1 div.sk-estimator input.sk-toggleable__control:checked~label.sk-toggleable__label {background-color: #d4ebff;}#sk-container-id-1 div.sk-label input.sk-toggleable__control:checked~label.sk-toggleable__label {background-color: #d4ebff;}#sk-container-id-1 input.sk-hidden--visually {border: 0;clip: rect(1px 1px 1px 1px);clip: rect(1px, 1px, 1px, 1px);height: 1px;margin: -1px;overflow: hidden;padding: 0;position: absolute;width: 1px;}#sk-container-id-1 div.sk-estimator {font-family: monospace;background-color: #f0f8ff;border: 1px dotted black;border-radius: 0.25em;box-sizing: border-box;margin-bottom: 0.5em;}#sk-container-id-1 div.sk-estimator:hover {background-color: #d4ebff;}#sk-container-id-1 div.sk-parallel-item::after {content: \"\";width: 100%;border-bottom: 1px solid gray;flex-grow: 1;}#sk-container-id-1 div.sk-label:hover label.sk-toggleable__label {background-color: #d4ebff;}#sk-container-id-1 div.sk-serial::before {content: \"\";position: absolute;border-left: 1px solid gray;box-sizing: border-box;top: 0;bottom: 0;left: 50%;z-index: 0;}#sk-container-id-1 div.sk-serial {display: flex;flex-direction: column;align-items: center;background-color: white;padding-right: 0.2em;padding-left: 0.2em;position: relative;}#sk-container-id-1 div.sk-item {position: relative;z-index: 1;}#sk-container-id-1 div.sk-parallel {display: flex;align-items: stretch;justify-content: center;background-color: white;position: relative;}#sk-container-id-1 div.sk-item::before, #sk-container-id-1 div.sk-parallel-item::before {content: \"\";position: absolute;border-left: 1px solid gray;box-sizing: border-box;top: 0;bottom: 0;left: 50%;z-index: -1;}#sk-container-id-1 div.sk-parallel-item {display: flex;flex-direction: column;z-index: 1;position: relative;background-color: white;}#sk-container-id-1 div.sk-parallel-item:first-child::after {align-self: flex-end;width: 50%;}#sk-container-id-1 div.sk-parallel-item:last-child::after {align-self: flex-start;width: 50%;}#sk-container-id-1 div.sk-parallel-item:only-child::after {width: 0;}#sk-container-id-1 div.sk-dashed-wrapped {border: 1px dashed gray;margin: 0 0.4em 0.5em 0.4em;box-sizing: border-box;padding-bottom: 0.4em;background-color: white;}#sk-container-id-1 div.sk-label label {font-family: monospace;font-weight: bold;display: inline-block;line-height: 1.2em;}#sk-container-id-1 div.sk-label-container {text-align: center;}#sk-container-id-1 div.sk-container {/* jupyter's `normalize.less` sets `[hidden] { display: none; }` but bootstrap.min.css set `[hidden] { display: none !important; }` so we also need the `!important` here to be able to override the default hidden behavior on the sphinx rendered scikit-learn.org. See: https://github.com/scikit-learn/scikit-learn/issues/21755 */display: inline-block !important;position: relative;}#sk-container-id-1 div.sk-text-repr-fallback {display: none;}</style><div id=\"sk-container-id-1\" class=\"sk-top-container\"><div class=\"sk-text-repr-fallback\"><pre>BaggingClassifier(estimator=DecisionTreeClassifier(max_depth=4,\n",
       "                                                   random_state=42),\n",
       "                  n_estimators=100, random_state=42)</pre><b>In a Jupyter environment, please rerun this cell to show the HTML representation or trust the notebook. <br />On GitHub, the HTML representation is unable to render, please try loading this page with nbviewer.org.</b></div><div class=\"sk-container\" hidden><div class=\"sk-item sk-dashed-wrapped\"><div class=\"sk-label-container\"><div class=\"sk-label sk-toggleable\"><input class=\"sk-toggleable__control sk-hidden--visually\" id=\"sk-estimator-id-1\" type=\"checkbox\" ><label for=\"sk-estimator-id-1\" class=\"sk-toggleable__label sk-toggleable__label-arrow\">BaggingClassifier</label><div class=\"sk-toggleable__content\"><pre>BaggingClassifier(estimator=DecisionTreeClassifier(max_depth=4,\n",
       "                                                   random_state=42),\n",
       "                  n_estimators=100, random_state=42)</pre></div></div></div><div class=\"sk-parallel\"><div class=\"sk-parallel-item\"><div class=\"sk-item\"><div class=\"sk-label-container\"><div class=\"sk-label sk-toggleable\"><input class=\"sk-toggleable__control sk-hidden--visually\" id=\"sk-estimator-id-2\" type=\"checkbox\" ><label for=\"sk-estimator-id-2\" class=\"sk-toggleable__label sk-toggleable__label-arrow\">estimator: DecisionTreeClassifier</label><div class=\"sk-toggleable__content\"><pre>DecisionTreeClassifier(max_depth=4, random_state=42)</pre></div></div></div><div class=\"sk-serial\"><div class=\"sk-item\"><div class=\"sk-estimator sk-toggleable\"><input class=\"sk-toggleable__control sk-hidden--visually\" id=\"sk-estimator-id-3\" type=\"checkbox\" ><label for=\"sk-estimator-id-3\" class=\"sk-toggleable__label sk-toggleable__label-arrow\">DecisionTreeClassifier</label><div class=\"sk-toggleable__content\"><pre>DecisionTreeClassifier(max_depth=4, random_state=42)</pre></div></div></div></div></div></div></div></div></div></div>"
      ],
      "text/plain": [
       "BaggingClassifier(estimator=DecisionTreeClassifier(max_depth=4,\n",
       "                                                   random_state=42),\n",
       "                  n_estimators=100, random_state=42)"
      ]
     },
     "execution_count": 17,
     "metadata": {},
     "output_type": "execute_result"
    }
   ],
   "source": [
    "bagging_classifier.fit(X, Y)"
   ]
  },
  {
   "cell_type": "markdown",
   "id": "7a24ce75-46c6-4038-b973-d596b8f0c403",
   "metadata": {},
   "source": [
    "# Évaluation de la performance du modèle sur l'ensemble de test"
   ]
  },
  {
   "cell_type": "markdown",
   "id": "f50cfb61-3d99-490a-97be-340f6b04db7d",
   "metadata": {},
   "source": [
    "Cette cellule évalue les performances du modèle entraîné sur l'ensemble de test. \n",
    "\n",
    "La méthode \"score\" du classificateur Bagging (bagging_classifier) est utilisée pour calculer la précision du modèle sur les données de test (X_test). \n",
    "\n",
    "La précision est ensuite imprimée à l'écran. Cette évaluation fournit une mesure de la capacité du modèle à généraliser à de nouvelles données non vues pendant l'entraînement."
   ]
  },
  {
   "cell_type": "code",
   "execution_count": 18,
   "id": "0a8e34c5-a20b-43d3-a9dc-cacff899147a",
   "metadata": {},
   "outputs": [
    {
     "name": "stdout",
     "output_type": "stream",
     "text": [
      "Test Accuracy: 81.25%\n"
     ]
    }
   ],
   "source": [
    "# Evaluate the model on the test set\n",
    "test_accuracy = bagging_classifier.score(X_test, Y_test)\n",
    "print(f'Test Accuracy: {test_accuracy * 100:.2f}%')"
   ]
  },
  {
   "cell_type": "markdown",
   "id": "2f73a8b3-e09b-4f4e-8406-dd5b6f05433a",
   "metadata": {},
   "source": [
    "# Prédictions sur l'ensemble de test"
   ]
  },
  {
   "cell_type": "markdown",
   "id": "4d9be0f4-ab2f-4fe8-851b-1ef3427eaf81",
   "metadata": {},
   "source": [
    "Cette cellule utilise le classificateur Bagging (bagging_classifier) pour effectuer des prédictions sur l'ensemble de test (X_test). \n",
    "\n",
    "Les prédictions résultantes sont stockées dans la variable y_pred. Ce processus permet d'obtenir les prédictions du modèle sur les données de test, ce qui peut être utile pour une analyse plus approfondie de la performance du modèle et pour l'évaluation de la qualité des prédictions sur de nouvelles données."
   ]
  },
  {
   "cell_type": "code",
   "execution_count": 19,
   "id": "8c225c1e-7348-4e49-98d9-c5e557d94ae5",
   "metadata": {},
   "outputs": [],
   "source": [
    "y_pred = bagging_classifier.predict(X_test)"
   ]
  },
  {
   "cell_type": "markdown",
   "id": "02d83651-49d9-4399-ae64-bba95ec9f5e9",
   "metadata": {},
   "source": [
    "# Seuillage pour des prédictions binaires"
   ]
  },
  {
   "cell_type": "markdown",
   "id": "0a74b79f-b544-4d30-a7af-054bab1f8866",
   "metadata": {},
   "source": [
    "Cette cellule applique un seuillage aux prédictions continues (y_pred) du modèle pour les convertir en prédictions binaires. \n",
    "\n",
    "Les valeurs supérieures à 0.5 sont considérées comme la classe positive (1), tandis que les valeurs inférieures ou égales à 0.5 sont considérées comme la classe négative (0). \n",
    "\n",
    "Les prédictions binaires résultantes sont stockées dans la variable binary_predictions. Ce seuillage est couramment utilisé pour transformer les sorties de modèles de régression en prédictions de classification binaire.\n"
   ]
  },
  {
   "cell_type": "code",
   "execution_count": 20,
   "id": "f86d0976-a445-45d4-8361-95bef45b205c",
   "metadata": {},
   "outputs": [],
   "source": [
    "binary_predictions = (y_pred > 0.5).astype(int)"
   ]
  },
  {
   "cell_type": "markdown",
   "id": "d51026be-88e4-4bc4-84d9-d16587203463",
   "metadata": {},
   "source": [
    "# Évaluation de la précision du modèle avec des prédictions binaires"
   ]
  },
  {
   "cell_type": "markdown",
   "id": "91c745e5-1e2b-4cbb-883b-cfc8a1e449fc",
   "metadata": {},
   "source": [
    "Cette cellule évalue la précision du modèle sur l'ensemble de test en utilisant les prédictions binaires (binary_predictions). \n",
    "\n",
    "La fonction accuracy_score de scikit-learn est utilisée pour calculer la précision en comparant les prédictions binaires avec les véritables étiquettes de test (Y_test). Le résultat est ensuite imprimé à l'écran, fournissant une mesure de la précision du modèle dans la tâche de classification binaire."
   ]
  },
  {
   "cell_type": "code",
   "execution_count": 21,
   "id": "489580ea-ac45-4a32-aa4c-276e34c3d791",
   "metadata": {},
   "outputs": [
    {
     "name": "stdout",
     "output_type": "stream",
     "text": [
      "Test Accuracy (Binary): 81.25%\n"
     ]
    }
   ],
   "source": [
    "test_accuracy_binary = accuracy_score(Y_test, binary_predictions)\n",
    "print(f'Test Accuracy (Binary): {test_accuracy_binary * 100:.2f}%')\n"
   ]
  },
  {
   "cell_type": "markdown",
   "id": "92d740a8-d251-4c10-b1ea-e4fa455dc581",
   "metadata": {},
   "source": [
    "# Affichage d'une image à partir des données d'entraînement"
   ]
  },
  {
   "cell_type": "markdown",
   "id": "d0258c3d-7862-492b-8053-ba4c5b63b7b0",
   "metadata": {},
   "source": [
    "Cette cellule affiche une image des données d'entraînement. L'image sélectionnée est celle correspondant à l'indice 10 dans les données d'entraînement (X_train). \n",
    "\n",
    "La fonction plt.imshow est utilisée pour afficher l'image à l'aide de la bibliothèque Matplotlib. \n",
    "\n",
    "La conversion de l'image en type \"uint8\" est effectuée pour s'assurer que les valeurs des pixels sont interprétées correctement lors de l'affichage."
   ]
  },
  {
   "cell_type": "code",
   "execution_count": 22,
   "id": "da6f9736-f97f-485b-af0d-daf999834a37",
   "metadata": {},
   "outputs": [
    {
     "data": {
      "text/plain": [
       "<matplotlib.image.AxesImage at 0x7fd0f86c78e0>"
      ]
     },
     "execution_count": 22,
     "metadata": {},
     "output_type": "execute_result"
    },
    {
     "data": {
      "image/png": "[encoded data removed]",
      "text/plain": [
       "<Figure size 640x480 with 1 Axes>"
      ]
     },
     "metadata": {},
     "output_type": "display_data"
    }
   ],
   "source": [
    "image = [X_train[10]]\n",
    "test_image = [X_train[10]]\n",
    "test_image_np = np.array(test_image)\n",
    "\n",
    "plt.imshow(image[0].astype(\"uint8\"))"
   ]
  },
  {
   "cell_type": "markdown",
   "id": "c8febbec-c05e-424d-b49f-658147713607",
   "metadata": {},
   "source": [
    "# Aplatissement de l'image en un vecteur"
   ]
  },
  {
   "cell_type": "markdown",
   "id": "d7adc7d9-23ec-433f-ad0d-6b235453322c",
   "metadata": {},
   "source": [
    "Cette cellule aplatisse l'image sélectionnée (image[0]) en un vecteur unidimensionnel à deux reprises. \n",
    "Les deux approches utilisées sont :\n",
    "\n",
    "1- image_flat = image[0].flatten() : Utilisation de la méthode flatten() pour créer un vecteur unidimensionnel à partir de l'image.\n",
    "\n",
    "2- image_flattened = image[0].reshape((1, -1)) : Utilisation de la méthode reshape pour remodeler l'image en une ligne (1) et de nombre de colonnes (-1), permettant d'obtenir un vecteur unidimensionnel."
   ]
  },
  {
   "cell_type": "code",
   "execution_count": 23,
   "id": "3f345aa5-fb46-4e23-be7f-b87ee80dd035",
   "metadata": {},
   "outputs": [],
   "source": [
    "image_flat = image[0].flatten()\n",
    "image_flattened = image[0].reshape((1, -1))"
   ]
  },
  {
   "cell_type": "markdown",
   "id": "f07526e6-73c1-4e9f-b17e-c2b982146a20",
   "metadata": {},
   "source": [
    "# Forme du vecteur aplati de l'image"
   ]
  },
  {
   "cell_type": "markdown",
   "id": "5e8e1cd7-9cb5-460d-9315-ca4d4beb79ae",
   "metadata": {},
   "source": [
    "Cette cellule utilise l'attribut shape pour afficher la forme du vecteur aplati de l'image (image_flattened). \n",
    "\n",
    "La forme résultante indique le nombre de lignes (1, car l'image est aplatie en un vecteur) et le nombre total d'éléments dans le vecteur, correspondant à la taille originale de l'image une fois aplatie."
   ]
  },
  {
   "cell_type": "code",
   "execution_count": 24,
   "id": "6f555006-a40d-4d0e-9d7e-b7b50e53ef19",
   "metadata": {},
   "outputs": [
    {
     "data": {
      "text/plain": [
       "(1, 2352)"
      ]
     },
     "execution_count": 24,
     "metadata": {},
     "output_type": "execute_result"
    }
   ],
   "source": [
    "image_flattened.shape"
   ]
  },
  {
   "cell_type": "markdown",
   "id": "83a6ef5c-0606-4ba7-b479-0ec77eb13ccb",
   "metadata": {},
   "source": [
    "# Prédiction du modèle sur une image individuelle"
   ]
  },
  {
   "cell_type": "markdown",
   "id": "b9d0fb5b-1437-4160-9d2a-c45afb2767b8",
   "metadata": {},
   "source": [
    "Cette cellule utilise le modèle Bagging entraîné (bagging_classifier) pour effectuer une prédiction sur une image individuelle préalablement aplatie (image_flattened). \n",
    "\n",
    "La fonction predict est utilisée pour obtenir la prédiction du modèle sur cette image spécifique. Ce processus permet d'obtenir la sortie du modèle pour une image particulière, ce qui peut être utile pour comprendre comment le modèle classe des exemples individuels."
   ]
  },
  {
   "cell_type": "code",
   "execution_count": 25,
   "id": "d19222da-12a8-4b8e-b891-b36bd349c4fd",
   "metadata": {},
   "outputs": [
    {
     "data": {
      "text/plain": [
       "array([1], dtype=int32)"
      ]
     },
     "execution_count": 25,
     "metadata": {},
     "output_type": "execute_result"
    }
   ],
   "source": [
    "bagging_classifier.predict(image_flattened)"
   ]
  },
  {
   "cell_type": "markdown",
   "id": "1c77676c-1f81-411c-9182-a2286889a8d7",
   "metadata": {},
   "source": [
    "# Fonction d'affichage d'échantillons d'images avec les labels réelles et prédites"
   ]
  },
  {
   "cell_type": "markdown",
   "id": "0be2ccdc-0e4f-4813-8c9a-83f52088b0e4",
   "metadata": {},
   "source": [
    "Cette cellule définit une fonction show_sample_images qui prend en paramètres une liste d'images (images), les étiquettes réelles correspondantes (true_labels), et les étiquettes prédites (predicted_labels). \n",
    "\n",
    "La fonction affiche ensuite les images avec les étiquettes réelles et prédites sous chaque image dans une figure Matplotlib."
   ]
  },
  {
   "cell_type": "code",
   "execution_count": 26,
   "id": "69f2bc3f-4e17-4074-a11b-c98eeacda7f7",
   "metadata": {},
   "outputs": [],
   "source": [
    "# Function to show images with true and predicted labels\n",
    "def show_sample_images(images, true_labels, predicted_labels):\n",
    "    plt.figure(figsize=(12, 4))\n",
    "    for i in range(len(images)):\n",
    "        plt.subplot(1, len(images), i + 1)\n",
    "        plt.imshow(images[i].reshape(img_height, img_width, 3))\n",
    "        plt.title(f'True: {true_labels[i]}\\nPred: {predicted_labels[i]}', fontsize=10)\n",
    "        plt.axis('off')\n"
   ]
  },
  {
   "cell_type": "markdown",
   "id": "b8a2652a-faef-4cf8-bf5b-be65f1f3c866",
   "metadata": {},
   "source": [
    "# Visualisation de quelques prédictions du modèle"
   ]
  },
  {
   "cell_type": "markdown",
   "id": "d6c25c3b-8bd8-4499-9cf1-962343a34af7",
   "metadata": {},
   "source": [
    "Cette cellule sélectionne un échantillon aléatoire de quelques images (num_samples) à partir de l'ensemble de test (X_test). \n",
    "\n",
    "Les étiquettes réelles correspondantes (sample_labels) et les prédictions binaires du modèle (sample_predictions) pour ces échantillons sont également extraites."
   ]
  },
  {
   "cell_type": "code",
   "execution_count": 27,
   "id": "ca764755-7e83-4152-ad1b-3cfd26257c40",
   "metadata": {},
   "outputs": [],
   "source": [
    "# Visualize a few predictions\n",
    "num_samples = 5\n",
    "sample_indices = np.random.choice(len(X_test), num_samples, replace=False)\n",
    "sample_images = X_test[sample_indices]\n",
    "sample_labels = Y_test[sample_indices]\n",
    "sample_predictions = binary_predictions[sample_indices]"
   ]
  },
  {
   "cell_type": "markdown",
   "id": "42862943-9a6a-4cf4-80b1-df1871d37f45",
   "metadata": {},
   "source": [
    "# Affichage des échantillons d'images avec les labels réelles et prédites"
   ]
  },
  {
   "cell_type": "markdown",
   "id": "ffd963bf-da14-4520-b476-05aad0761e96",
   "metadata": {},
   "source": [
    "Cette cellule utilise la fonction show_sample_images définie précédemment pour afficher un échantillon d'images (sample_images) avec les étiquettes réelles (sample_labels) et les étiquettes prédites (sample_predictions). \n",
    "\n",
    "La visualisation permet de comparer visuellement les prédictions du modèle avec les véritables étiquettes pour un petit ensemble d'échantillons, facilitant ainsi l'interprétation de la performance du modèle sur ces exemples particuliers."
   ]
  },
  {
   "cell_type": "code",
   "execution_count": 28,
   "id": "01292820-def7-4d63-ab2b-2be409faad7c",
   "metadata": {},
   "outputs": [
    {
     "name": "stderr",
     "output_type": "stream",
     "text": [
      "Clipping input data to the valid range for imshow with RGB data ([0..1] for floats or [0..255] for integers).\n",
      "Clipping input data to the valid range for imshow with RGB data ([0..1] for floats or [0..255] for integers).\n",
      "Clipping input data to the valid range for imshow with RGB data ([0..1] for floats or [0..255] for integers).\n",
      "Clipping input data to the valid range for imshow with RGB data ([0..1] for floats or [0..255] for integers).\n",
      "Clipping input data to the valid range for imshow with RGB data ([0..1] for floats or [0..255] for integers).\n"
     ]
    },
    {
     "data": {
      "image/png": "[encoded data removed]",
      "text/plain": [
       "<Figure size 1200x400 with 5 Axes>"
      ]
     },
     "metadata": {},
     "output_type": "display_data"
    }
   ],
   "source": [
    "# Display the sample images\n",
    "show_sample_images(sample_images, sample_labels, sample_predictions)\n",
    "plt.show()"
   ]
  },
  {
   "cell_type": "markdown",
   "id": "a3666b60-a298-47f9-910b-964818eb3b80",
   "metadata": {},
   "source": [
    "# Importation des métriques d'évaluation"
   ]
  },
  {
   "cell_type": "markdown",
   "id": "d21c4da5-e07a-4191-8a2b-79f5ad56abf8",
   "metadata": {},
   "source": [
    "Cette cellule importe les métriques d'évaluation accuracy_score et confusion_matrix à partir de la bibliothèque scikit-learn. \n",
    "\n",
    "Ces métriques sont couramment utilisées pour évaluer la performance des modèles de classification. \n",
    "\n",
    "La confusion_matrix fournit une matrice de confusion, tandis que l'accuracy_score donne la précision globale du modèle. Ces métriques peuvent être utilisées pour une évaluation plus détaillée de la performance du modèle sur l'ensemble de test."
   ]
  },
  {
   "cell_type": "code",
   "execution_count": 29,
   "id": "acd62b6c-a8a4-43ef-b530-719958fbaa0e",
   "metadata": {},
   "outputs": [],
   "source": [
    "from sklearn.metrics import accuracy_score, confusion_matrix"
   ]
  },
  {
   "cell_type": "markdown",
   "id": "0908b41a-0b10-4cde-9552-7b3447088dd9",
   "metadata": {},
   "source": [
    "# Calcul et affichage de la matrice de confusion"
   ]
  },
  {
   "cell_type": "code",
   "execution_count": 30,
   "id": "9bf45e11-53c6-4b57-8732-a0d94aee1ac8",
   "metadata": {},
   "outputs": [],
   "source": [
    "# Calculate and display the confusion matrix\n",
    "conf_matrix = confusion_matrix(Y_test, binary_predictions)\n"
   ]
  },
  {
   "cell_type": "code",
   "execution_count": 31,
   "id": "2643d8b6-966b-4ff9-93de-29765095f8c2",
   "metadata": {},
   "outputs": [],
   "source": [
    "import seaborn as sns"
   ]
  },
  {
   "cell_type": "code",
   "execution_count": 32,
   "id": "d2ee6ea8-5521-4801-832e-e48cbcf4d9c0",
   "metadata": {},
   "outputs": [
    {
     "data": {
      "image/png": "[encoded data removed]",
      "text/plain": [
       "<Figure size 800x600 with 2 Axes>"
      ]
     },
     "metadata": {},
     "output_type": "display_data"
    }
   ],
   "source": [
    "# Display the confusion matrix using a heatmap\n",
    "plt.figure(figsize=(8, 6))\n",
    "sns.heatmap(conf_matrix, annot=True, fmt='d', cmap='Blues', xticklabels=['Not Photo', 'Photo'], yticklabels=['Not Photo', 'Photo'])\n",
    "plt.xlabel('Predicted Labels')\n",
    "plt.ylabel('True Labels')\n",
    "plt.title('Confusion Matrix')\n",
    "plt.show()"
   ]
  },
  {
   "cell_type": "code",
   "execution_count": 33,
   "id": "78fc974f-8f86-41b4-811a-6a6816482916",
   "metadata": {},
   "outputs": [
    {
     "name": "stdout",
     "output_type": "stream",
     "text": [
      "Requirement already satisfied: joblib in ./my-jupyter-env/lib/python3.10/site-packages (1.3.2)\n",
      "Note: you may need to restart the kernel to use updated packages.\n"
     ]
    }
   ],
   "source": [
    "pip install joblib"
   ]
  },
  {
   "cell_type": "code",
   "execution_count": 34,
   "id": "7f71afc9-a4e3-4172-b3d4-86e2f2e687e0",
   "metadata": {},
   "outputs": [
    {
     "data": {
      "text/plain": [
       "['bagging.joblib']"
      ]
     },
     "execution_count": 34,
     "metadata": {},
     "output_type": "execute_result"
    }
   ],
   "source": [
    "import joblib \n",
    "joblib.dump(bagging_classifier, 'bagging.joblib')"
   ]
  },
  {
   "cell_type": "code",
   "execution_count": null,
   "id": "1ac2b1fa-b800-4640-a1e3-961415b92d6b",
   "metadata": {},
   "outputs": [],
   "source": []
  }
 ],
 "metadata": {
  "kernelspec": {
   "display_name": "Python 3 (ipykernel)",
   "language": "python",
   "name": "python3"
  },
  "language_info": {
   "codemirror_mode": {
    "name": "ipython",
    "version": 3
   },
   "file_extension": ".py",
   "mimetype": "text/x-python",
   "name": "python",
   "nbconvert_exporter": "python",
   "pygments_lexer": "ipython3",
   "version": "3.10.12"
  }
 },
 "nbformat": 4,
 "nbformat_minor": 5
}
