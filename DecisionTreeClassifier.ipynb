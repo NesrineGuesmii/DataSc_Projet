{
 "cells": [
  {
   "cell_type": "code",
   "execution_count": null,
   "metadata": {},
   "outputs": [],
   "source": [
    "import tensorflow as tf\n",
    "from tensorflow import keras\n",
    "import matplotlib.pyplot as plt\n",
    "import numpy as np\n",
    "from sklearn.metrics import accuracy_score\n",
    "from sklearn.metrics import confusion_matrix, ConfusionMatrixDisplay, precision_recall_curve, auc\n",
    "\n",
    "BATCH_SIZE = 32\n",
    "# IMAGE_SIZE = (90, 90)\n",
    "#IMAGE_SIZE = (50, 50)\n",
    "IMAGE_SIZE = (40, 40)\n",
    "\n",
    "def get_dataset_binaire():\n",
    "    return keras.utils.image_dataset_from_directory(\n",
    "        \"Datasets/Dataset binaire/\",\n",
    "        labels=\"inferred\",\n",
    "        label_mode='binary',\n",
    "        color_mode='rgb',\n",
    "        batch_size=BATCH_SIZE,\n",
    "        image_size=IMAGE_SIZE,\n",
    "        shuffle=True,\n",
    "        seed=42,\n",
    "        validation_split=0.2,\n",
    "        subset=\"both\",\n",
    "        interpolation='area' #area pour rétrecir / bicubic pour élargir\n",
    "    )\n",
    "\n",
    "def get_dataset_multiclasse():\n",
    "    return keras.utils.image_dataset_from_directory(\n",
    "        \"Datasets/Dataset multiclasse/\",\n",
    "        labels=\"inferred\",\n",
    "        label_mode='int',\n",
    "        color_mode='rgb',\n",
    "        batch_size=BATCH_SIZE,\n",
    "        image_size=IMAGE_SIZE,\n",
    "        shuffle=True,\n",
    "        seed=42,\n",
    "        validation_split=0.2,\n",
    "        subset=\"both\",\n",
    "        interpolation='area' #area pour rétrecir / bicubic pour élargir\n",
    "    )\n",
    "\n",
    "def DrawConfusionMatrix(y, y_pred, labels=None):\n",
    "    cm = confusion_matrix(y, y_pred, labels=labels)\n",
    "    disp = ConfusionMatrixDisplay(confusion_matrix=cm, display_labels=labels)\n",
    "    disp.plot()\n",
    "    plt.show()\n",
    "\n",
    "def DrawPrecisionRecallCurve(y_validation, y_val_pred):\n",
    "    precision, recall, _ = precision_recall_curve(y_validation, y_val_pred)\n",
    "    auc_score = auc(recall, precision)\n",
    "    plt.figure(figsize=(8, 8))\n",
    "    plt.plot(recall, precision, label=f'Precision-Recall curve (AUC = {auc_score:.2f})', color='b')\n",
    "    plt.xlabel('Recall')\n",
    "    plt.ylabel('Precision')\n",
    "    plt.title('Precision-Recall Curve')\n",
    "    plt.legend(loc='best')\n",
    "    plt.show()"
   ]
  },
  {
   "cell_type": "code",
   "execution_count": null,
   "metadata": {},
   "outputs": [],
   "source": [
    "train_binaire, validation_binaire = get_dataset_binaire()\n",
    "classes_binaire = train_binaire.class_names\n",
    "print(classes_binaire)\n",
    "train_multiclasse, validation_multiclasse = get_dataset_multiclasse()\n",
    "classes_multiclasse = train_multiclasse.class_names\n",
    "print(classes_multiclasse)"
   ]
  },
  {
   "cell_type": "code",
   "execution_count": null,
   "metadata": {},
   "outputs": [],
   "source": [
    "AUTOTUNE = tf.data.experimental.AUTOTUNE\n",
    "\n",
    "train_binaire = train_binaire.cache().shuffle(1000).prefetch(buffer_size=AUTOTUNE)\n",
    "train_multiclasse = train_multiclasse.cache().prefetch(buffer_size=AUTOTUNE)"
   ]
  },
  {
   "cell_type": "code",
   "execution_count": null,
   "metadata": {},
   "outputs": [],
   "source": [
    "images_train, labels_train, images_validation, labels_validation = [], [], [], []\n",
    "\n",
    "for image_batch, label_batch in train_binaire:\n",
    "    images_train.extend(image_batch.numpy())\n",
    "    labels_train.extend(label_batch.numpy())\n",
    "\n",
    "for image_batch, label_batch in validation_binaire:\n",
    "    images_validation.extend(image_batch.numpy())\n",
    "    labels_validation.extend(label_batch.numpy())\n",
    "\n",
    "images_train = np.array(images_train)\n",
    "images_validation = np.array(images_validation)\n",
    "\n",
    "labels_train = np.array(labels_train)\n",
    "labels_validation = np.array(labels_validation)\n",
    "\n",
    "X_train = images_train.reshape(images_train.shape[0], -1)\n",
    "y_train = labels_train.ravel()\n",
    "\n",
    "X_validation = images_validation.reshape(images_validation.shape[0], -1)\n",
    "y_validation = labels_validation.ravel()\n",
    "\n",
    "print(\"X shape : {}\".format(str(X_train.shape)))\n",
    "print(\"Y shape : {}\".format(str(y_train.shape)))\n",
    "print(\"X shape : {}\".format(str(X_validation.shape)))\n",
    "print(\"Y shape : {}\".format(str(y_validation.shape)))"
   ]
  },
  {
   "cell_type": "code",
   "execution_count": null,
   "metadata": {},
   "outputs": [],
   "source": [
    "plt.figure(figsize=(8, 8))\n",
    "for images, labels in train_binaire.take(1):\n",
    "    for i in range(9):\n",
    "        ax = plt.subplot(3, 3, i + 1)\n",
    "        plt.imshow(images[i].numpy().astype(\"uint8\"))\n",
    "        plt.title(labels[i].numpy().astype(int)[0])\n",
    "        plt.axis(\"off\")\n",
    "\n",
    "plt.figure(figsize=(8, 8))\n",
    "for images, labels in train_multiclasse.take(1):\n",
    "    for i in range(9):\n",
    "        ax = plt.subplot(3, 3, i + 1)\n",
    "        plt.imshow(images[i].numpy().astype(\"uint8\"))\n",
    "        plt.title(labels[i].numpy().astype(int))\n",
    "        plt.axis(\"off\")"
   ]
  },
  {
   "cell_type": "code",
   "execution_count": null,
   "metadata": {},
   "outputs": [],
   "source": [
    "from sklearn import tree\n",
    "\n",
    "clf = tree.DecisionTreeClassifier(max_depth=3)\n",
    "clf = clf.fit(X_train, y_train)"
   ]
  },
  {
   "cell_type": "code",
   "execution_count": null,
   "metadata": {},
   "outputs": [],
   "source": [
    "y_val_pred = clf.predict(X_validation)\n",
    "\n",
    "DrawPrecisionRecallCurve(y_validation, y_val_pred)\n",
    "\n",
    "print(\"score on train: \"+ str(clf.score(X_train, y_train)))\n",
    "print(\"score on test: \" + str(clf.score(X_validation, y_validation)))\n",
    "DrawConfusionMatrix(y_validation, y_val_pred, svm.classes_)"
   ]
  }
 ],
 "metadata": {
  "language_info": {
   "name": "python"
  }
 },
 "nbformat": 4,
 "nbformat_minor": 2
}
