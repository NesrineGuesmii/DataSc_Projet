{
 "cells": [
  {
   "cell_type": "code",
   "execution_count": 114,
   "id": "0bf52cd1",
   "metadata": {},
   "outputs": [],
   "source": [
    "import os\n",
    "import numpy as np\n",
    "import matplotlib.pyplot as plt\n",
    "from sklearn.ensemble import AdaBoostClassifier\n",
    "from sklearn.tree import DecisionTreeClassifier\n",
    "from sklearn.metrics import accuracy_score\n",
    "import tensorflow as tf"
   ]
  },
  {
   "cell_type": "code",
   "execution_count": 115,
   "id": "a2e7cfe6",
   "metadata": {},
   "outputs": [],
   "source": [
    "base_dir = 'C:\\\\Users\\\\aaa\\\\DatasetLivrable1\\\\Livrable1'"
   ]
  },
  {
   "cell_type": "code",
   "execution_count": 116,
   "id": "1c4132ea",
   "metadata": {},
   "outputs": [],
   "source": [
    "#définir les dimensions\n",
    "\n",
    "img_height = 50\n",
    "img_width = 50\n",
    "batch_size = 32"
   ]
  },
  {
   "cell_type": "code",
   "execution_count": 117,
   "id": "5806cee4",
   "metadata": {},
   "outputs": [
    {
     "name": "stdout",
     "output_type": "stream",
     "text": [
      "Found 41407 files belonging to 5 classes.\n",
      "Using 33126 files for training.\n",
      "Using 8281 files for validation.\n"
     ]
    }
   ],
   "source": [
    "#récupérer les données dans directory et les séparer en données d\"entrainement (80%) et données de test (20%)\n",
    "\n",
    "train_set, test_set = tf.keras.preprocessing.image_dataset_from_directory(\n",
    "  base_dir,\n",
    "  validation_split=  0.2,\n",
    "  subset =  \"both\",\n",
    "  seed=42,\n",
    "  image_size=(img_height, img_width),\n",
    "  batch_size=batch_size\n",
    ")"
   ]
  },
  {
   "cell_type": "code",
   "execution_count": 119,
   "id": "47d35acd",
   "metadata": {},
   "outputs": [],
   "source": [
    "#mettre les images et les labels dans des array qui sont des tensor\n",
    "\n",
    "images_train, labels_train = next(iter(train_set))\n",
    "images_test, labels_test = next(iter(test_set))"
   ]
  },
  {
   "cell_type": "code",
   "execution_count": 120,
   "id": "6848ca2b",
   "metadata": {},
   "outputs": [
    {
     "data": {
      "text/plain": [
       "tensorflow.python.framework.ops.EagerTensor"
      ]
     },
     "execution_count": 120,
     "metadata": {},
     "output_type": "execute_result"
    }
   ],
   "source": [
    "type(images_train)"
   ]
  },
  {
   "cell_type": "code",
   "execution_count": 121,
   "id": "54fc03c2",
   "metadata": {},
   "outputs": [],
   "source": [
    "#transformer en numpy\n",
    "\n",
    "X_train = images_train.numpy()\n",
    "X_test = images_test.numpy()"
   ]
  },
  {
   "cell_type": "code",
   "execution_count": 122,
   "id": "49310aeb",
   "metadata": {},
   "outputs": [
    {
     "data": {
      "text/plain": [
       "numpy.ndarray"
      ]
     },
     "execution_count": 122,
     "metadata": {},
     "output_type": "execute_result"
    }
   ],
   "source": [
    "type(X_train)"
   ]
  },
  {
   "cell_type": "code",
   "execution_count": 123,
   "id": "4d17e3df",
   "metadata": {},
   "outputs": [],
   "source": [
    "#Récupérer les classes dans une variables\n",
    "\n",
    "class_names = train_set.class_names"
   ]
  },
  {
   "cell_type": "code",
   "execution_count": 124,
   "id": "afef5b48",
   "metadata": {},
   "outputs": [],
   "source": [
    "#récupérer chaque image et label dans un tableau , et on rassemble images ensemble et label ensemble\n",
    "\n",
    "images, labels = [], []\n",
    "for image_batch, label_batch in train_set:\n",
    "    images.extend(image_batch.numpy())\n",
    "    labels.extend(label_batch.numpy())\n",
    "\n",
    "for image_batch, label_batch in test_set:\n",
    "    images.extend(image_batch.numpy())\n",
    "    labels.extend(label_batch.numpy())"
   ]
  },
  {
   "cell_type": "code",
   "execution_count": 125,
   "id": "ce3e1289",
   "metadata": {},
   "outputs": [],
   "source": [
    "#créer un tableau de numpy pour pouvoir les applatir\n",
    "\n",
    "images = np.array(images)\n",
    "labels = np.array(labels)"
   ]
  },
  {
   "cell_type": "code",
   "execution_count": 126,
   "id": "4b461c08",
   "metadata": {},
   "outputs": [],
   "source": [
    "# applatir les X\n",
    "\n",
    "X = images.reshape(images.shape[0], -1)\n",
    "Y = labels"
   ]
  },
  {
   "cell_type": "code",
   "execution_count": 127,
   "id": "cde8d085",
   "metadata": {},
   "outputs": [
    {
     "data": {
      "text/plain": [
       "(41407, 7500)"
      ]
     },
     "execution_count": 127,
     "metadata": {},
     "output_type": "execute_result"
    }
   ],
   "source": [
    "X.shape"
   ]
  },
  {
   "cell_type": "code",
   "execution_count": 128,
   "id": "024827ce",
   "metadata": {},
   "outputs": [
    {
     "name": "stdout",
     "output_type": "stream",
     "text": [
      "X shape : (41407, 7500)\n",
      "Y shape : (41407,)\n"
     ]
    }
   ],
   "source": [
    "print(\"X shape : {}\".format(str(X.shape)))\n",
    "print(\"Y shape : {}\".format(str(Y.shape)))"
   ]
  },
  {
   "cell_type": "code",
   "execution_count": 129,
   "id": "3561f212",
   "metadata": {},
   "outputs": [],
   "source": [
    "from sklearn.decomposition import PCA"
   ]
  },
  {
   "cell_type": "code",
   "execution_count": 130,
   "id": "6c7c7913",
   "metadata": {},
   "outputs": [],
   "source": [
    "#Appliquer PCA pour réduire les dimensions\n",
    "\n",
    "pca = PCA()"
   ]
  },
  {
   "cell_type": "code",
   "execution_count": 131,
   "id": "c8326fb2",
   "metadata": {},
   "outputs": [],
   "source": [
    "#Appliquer le fit_transform pour réduire les dimensions\n",
    "\n",
    "XPCA = pca.fit_transform(X)"
   ]
  },
  {
   "cell_type": "code",
   "execution_count": 132,
   "id": "33c2b2d6",
   "metadata": {},
   "outputs": [
    {
     "data": {
      "text/plain": [
       "(41407, 7500)"
      ]
     },
     "execution_count": 132,
     "metadata": {},
     "output_type": "execute_result"
    }
   ],
   "source": [
    "XPCA.shape"
   ]
  },
  {
   "cell_type": "code",
   "execution_count": 133,
   "id": "627f136b",
   "metadata": {},
   "outputs": [],
   "source": [
    "\n",
    "from sklearn.model_selection import train_test_split"
   ]
  },
  {
   "cell_type": "code",
   "execution_count": 134,
   "id": "7a78da24",
   "metadata": {},
   "outputs": [],
   "source": [
    "from xgboost import XGBClassifier"
   ]
  },
  {
   "cell_type": "code",
   "execution_count": 135,
   "id": "6b593c54",
   "metadata": {},
   "outputs": [
    {
     "data": {
      "text/plain": [
       "['Painting', 'Photo', 'Schematics', 'Sketch', 'Text']"
      ]
     },
     "execution_count": 135,
     "metadata": {},
     "output_type": "execute_result"
    }
   ],
   "source": [
    "class_names"
   ]
  },
  {
   "cell_type": "code",
   "execution_count": 136,
   "id": "2ffbb239",
   "metadata": {},
   "outputs": [],
   "source": [
    "#binairiser les classes\n",
    "\n",
    "Binary_Y = Y\n",
    "Binary_Y[Binary_Y != 1] = 0"
   ]
  },
  {
   "cell_type": "code",
   "execution_count": 137,
   "id": "231e409f",
   "metadata": {},
   "outputs": [
    {
     "name": "stdout",
     "output_type": "stream",
     "text": [
      "Learning score For XGBOOST: 0.9544150943396227\n",
      "Generalization score For XGBOOST: 0.8225066409079932\n"
     ]
    }
   ],
   "source": [
    "# apprentissage avec XGBoost\n",
    "X_train, X_test, y_train, y_test = train_test_split(XPCA,Binary_Y, test_size=0.2)\n",
    "bst = XGBClassifier(n_estimators=100, max_depth=3, learning_rate=1, objective='binary:logistic')\n",
    "bst.fit(X_train, y_train)\n",
    "learningScoreXGB = bst.score(X_train, y_train)\n",
    "generalizationScoreXGB = bst.score(X_test, y_test)\n",
    "print('Learning score For XGBOOST: '+str(learningScoreXGB))\n",
    "print('Generalization score For XGBOOST: '+str(generalizationScoreXGB))"
   ]
  },
  {
   "cell_type": "code",
   "execution_count": 138,
   "id": "d9ebd6e9",
   "metadata": {},
   "outputs": [],
   "source": [
    "from sklearn.metrics import confusion_matrix\n",
    "import seaborn as sns\n",
    "import matplotlib.pyplot as plt"
   ]
  },
  {
   "cell_type": "code",
   "execution_count": 139,
   "id": "5d37a316",
   "metadata": {},
   "outputs": [],
   "source": [
    "# Prédire les classes sur l'ensemble de test\n",
    "y_pred = bst.predict(X_test)"
   ]
  },
  {
   "cell_type": "code",
   "execution_count": 140,
   "id": "1330db4f",
   "metadata": {},
   "outputs": [],
   "source": [
    "# Calculer la matrice de confusion\n",
    "cm = confusion_matrix(y_test, y_pred)"
   ]
  },
  {
   "cell_type": "code",
   "execution_count": 141,
   "id": "6e1a1838",
   "metadata": {},
   "outputs": [
    {
     "data": {
      "image/png": "[encoded data removed]",
      "text/plain": [
       "<Figure size 640x480 with 1 Axes>"
      ]
     },
     "metadata": {},
     "output_type": "display_data"
    }
   ],
   "source": [
    "# Afficher la matrice de confusion avec seaborn\n",
    "sns.heatmap(cm, annot=True, fmt=\"d\", cmap=\"Blues\", cbar=False)\n",
    "plt.xlabel(\"Prédictions\")\n",
    "plt.ylabel(\"Vraies valeurs\")\n",
    "plt.title(\"Matrice de Confusion - XGBoost\")\n",
    "plt.show()"
   ]
  },
  {
   "cell_type": "code",
   "execution_count": 142,
   "id": "c1881970",
   "metadata": {},
   "outputs": [],
   "source": [
    "from sklearn.metrics import accuracy_score"
   ]
  },
  {
   "cell_type": "code",
   "execution_count": 143,
   "id": "75abaa55",
   "metadata": {},
   "outputs": [],
   "source": [
    "# Calculer l'accuracy\n",
    "accuracy = accuracy_score(y_test, y_pred)"
   ]
  },
  {
   "cell_type": "code",
   "execution_count": 144,
   "id": "c57c2490",
   "metadata": {},
   "outputs": [
    {
     "name": "stdout",
     "output_type": "stream",
     "text": [
      "Accuracy : 82.25%\n"
     ]
    }
   ],
   "source": [
    "# Afficher l'accuracy\n",
    "print('Accuracy : {:.2f}%'.format(accuracy * 100))"
   ]
  },
  {
   "cell_type": "code",
   "execution_count": null,
   "id": "b4c1d5da",
   "metadata": {},
   "outputs": [],
   "source": []
  }
 ],
 "metadata": {
  "kernelspec": {
   "display_name": "Python 3 (ipykernel)",
   "language": "python",
   "name": "python3"
  },
  "language_info": {
   "codemirror_mode": {
    "name": "ipython",
    "version": 3
   },
   "file_extension": ".py",
   "mimetype": "text/x-python",
   "name": "python",
   "nbconvert_exporter": "python",
   "pygments_lexer": "ipython3",
   "version": "3.11.5"
  }
 },
 "nbformat": 4,
 "nbformat_minor": 5
}
