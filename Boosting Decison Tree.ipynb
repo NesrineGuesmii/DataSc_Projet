{
 "cells": [
  {
   "cell_type": "markdown",
   "id": "8b0b3c35-7d71-467a-acf9-c53bb54eb955",
   "metadata": {},
   "source": [
    "# Importation des bibliothèques pour AdaBoost"
   ]
  },
  {
   "cell_type": "code",
   "execution_count": 4,
   "id": "4907c2ce-e302-45d3-9959-2dddfab75be4",
   "metadata": {},
   "outputs": [
    {
     "name": "stderr",
     "output_type": "stream",
     "text": [
      "2024-01-10 13:24:25.154498: I external/local_tsl/tsl/cuda/cudart_stub.cc:31] Could not find cuda drivers on your machine, GPU will not be used.\n",
      "2024-01-10 13:24:25.442162: E external/local_xla/xla/stream_executor/cuda/cuda_dnn.cc:9261] Unable to register cuDNN factory: Attempting to register factory for plugin cuDNN when one has already been registered\n",
      "2024-01-10 13:24:25.442265: E external/local_xla/xla/stream_executor/cuda/cuda_fft.cc:607] Unable to register cuFFT factory: Attempting to register factory for plugin cuFFT when one has already been registered\n",
      "2024-01-10 13:24:25.493400: E external/local_xla/xla/stream_executor/cuda/cuda_blas.cc:1515] Unable to register cuBLAS factory: Attempting to register factory for plugin cuBLAS when one has already been registered\n",
      "2024-01-10 13:24:25.603261: I external/local_tsl/tsl/cuda/cudart_stub.cc:31] Could not find cuda drivers on your machine, GPU will not be used.\n",
      "2024-01-10 13:24:25.604719: I tensorflow/core/platform/cpu_feature_guard.cc:182] This TensorFlow binary is optimized to use available CPU instructions in performance-critical operations.\n",
      "To enable the following instructions: AVX2 FMA, in other operations, rebuild TensorFlow with the appropriate compiler flags.\n",
      "2024-01-10 13:24:26.776337: W tensorflow/compiler/tf2tensorrt/utils/py_utils.cc:38] TF-TRT Warning: Could not find TensorRT\n"
     ]
    }
   ],
   "source": [
    "import os\n",
    "import numpy as np\n",
    "import matplotlib.pyplot as plt\n",
    "from sklearn.ensemble import AdaBoostClassifier\n",
    "from sklearn.tree import DecisionTreeClassifier\n",
    "from sklearn.metrics import accuracy_score\n",
    "import tensorflow as tf"
   ]
  },
  {
   "cell_type": "markdown",
   "id": "427e8653-6c2e-4293-b3a6-868853876194",
   "metadata": {},
   "source": [
    "# Configuration des paramétres"
   ]
  },
  {
   "cell_type": "code",
   "execution_count": 5,
   "id": "a2e7cfe6",
   "metadata": {},
   "outputs": [],
   "source": [
    "base_dir = \"./Livrable 1\""
   ]
  },
  {
   "cell_type": "code",
   "execution_count": 6,
   "id": "1c4132ea",
   "metadata": {},
   "outputs": [],
   "source": [
    "#définir les dimensions\n",
    "\n",
    "img_height = 50\n",
    "img_width = 50\n",
    "batch_size = 32"
   ]
  },
  {
   "cell_type": "markdown",
   "id": "2be81336-0821-4c77-aee0-d090e73e784a",
   "metadata": {},
   "source": [
    "# Division en ensembles d'entraînement et de test"
   ]
  },
  {
   "cell_type": "markdown",
   "id": "76abe78a-af85-47db-8d3b-ccdefd0b601e",
   "metadata": {},
   "source": [
    "Cette cellule de code utilise la bibliothèque TensorFlow pour récupérer les données d'un répertoire spécifié. Les données sont ensuite divisées en ensembles d'entraînement (80%) et de test (20%)"
   ]
  },
  {
   "cell_type": "code",
   "execution_count": 7,
   "id": "5806cee4",
   "metadata": {},
   "outputs": [
    {
     "name": "stdout",
     "output_type": "stream",
     "text": [
      "Found 41407 files belonging to 5 classes.\n",
      "Using 33126 files for training.\n",
      "Using 8281 files for validation.\n"
     ]
    }
   ],
   "source": [
    "#récupérer les données dans directory et les séparer en données d\"entrainement (80%) et données de test (20%)\n",
    "\n",
    "train_set, test_set = tf.keras.preprocessing.image_dataset_from_directory(\n",
    "  base_dir,\n",
    "  validation_split=  0.2,\n",
    "  subset =  \"both\",\n",
    "  seed=42,\n",
    "  image_size=(img_height, img_width),\n",
    "  batch_size=batch_size\n",
    ")"
   ]
  },
  {
   "cell_type": "markdown",
   "id": "ac1fb472-6636-43b0-9ed0-70f6980df089",
   "metadata": {},
   "source": [
    "# Conversion des données en tenseurs pour l'entraînement du modèle"
   ]
  },
  {
   "cell_type": "markdown",
   "id": "55e7e865-27e0-4d87-9d81-b5ca12c667d0",
   "metadata": {},
   "source": [
    "Cette cellule de code extrait les images et les étiquettes (labels) de l'ensemble d'entraînement et de l'ensemble de test, les transformant en tenseurs pour être utilisés dans le processus d'entraînement du modèle. La fonction next(iter(...)) est employée pour obtenir un lot (batch) d'images et de labels à partir des ensembles correspondants, facilitant ainsi la manipulation de données sous forme de tenseurs dans le cadre du flux de travail d'apprentissage automatique."
   ]
  },
  {
   "cell_type": "code",
   "execution_count": 8,
   "id": "47d35acd",
   "metadata": {},
   "outputs": [],
   "source": [
    "#mettre les images et les labels dans des array qui sont des tensor\n",
    "\n",
    "images_train, labels_train = next(iter(train_set))\n",
    "images_test, labels_test = next(iter(test_set))"
   ]
  },
  {
   "cell_type": "code",
   "execution_count": 9,
   "id": "6848ca2b",
   "metadata": {},
   "outputs": [
    {
     "data": {
      "text/plain": [
       "tensorflow.python.framework.ops.EagerTensor"
      ]
     },
     "execution_count": 9,
     "metadata": {},
     "output_type": "execute_result"
    }
   ],
   "source": [
    "type(images_train)"
   ]
  },
  {
   "cell_type": "markdown",
   "id": "2e35fceb-f975-4bd6-b6dd-8be80ad6a03d",
   "metadata": {},
   "source": [
    "# Conversion des tenseurs en tableaux NumPy"
   ]
  },
  {
   "cell_type": "markdown",
   "id": "852ae646-2cf2-41c4-8c96-a33ce7da451a",
   "metadata": {},
   "source": [
    "Cette cellule de code effectue une conversion des tenseurs contenant les images d'entraînement et de test en tableaux NumPy. Cette transformation permet de manipuler plus aisément les données dans le cadre de certaines opérations, notamment lors de l'utilisation de bibliothèques telles que NumPy pour le traitement et l'analyse des données d'image."
   ]
  },
  {
   "cell_type": "code",
   "execution_count": 10,
   "id": "54fc03c2",
   "metadata": {},
   "outputs": [],
   "source": [
    "#transformer en numpy\n",
    "X_train = images_train.numpy()\n",
    "X_test = images_test.numpy()"
   ]
  },
  {
   "cell_type": "code",
   "execution_count": 11,
   "id": "ec326c41-e5e2-41e5-a7ce-722f476dba6d",
   "metadata": {},
   "outputs": [],
   "source": [
    "Y_train = labels_train.numpy()\n",
    "Y_test = labels_test.numpy()"
   ]
  },
  {
   "cell_type": "markdown",
   "id": "15474e8c-7481-4692-9f1b-f40e51825ec4",
   "metadata": {},
   "source": [
    "# Binariser les données"
   ]
  },
  {
   "cell_type": "code",
   "execution_count": 12,
   "id": "49310aeb",
   "metadata": {},
   "outputs": [],
   "source": [
    "Y_test[Y_test != 1] = 0"
   ]
  },
  {
   "cell_type": "code",
   "execution_count": 13,
   "id": "4d17e3df",
   "metadata": {},
   "outputs": [],
   "source": [
    "#Récupérer les classes dans une variables\n",
    "class_names = train_set.class_names"
   ]
  },
  {
   "cell_type": "code",
   "execution_count": 14,
   "id": "afef5b48",
   "metadata": {},
   "outputs": [],
   "source": [
    "# applatir les X\n",
    "X = X_train.reshape(X_train.shape[0], -1)\n",
    "Y = Y_train"
   ]
  },
  {
   "cell_type": "code",
   "execution_count": 15,
   "id": "ce3e1289",
   "metadata": {},
   "outputs": [],
   "source": [
    "Y[Y != 1] = 0"
   ]
  },
  {
   "cell_type": "code",
   "execution_count": 16,
   "id": "4b461c08",
   "metadata": {},
   "outputs": [
    {
     "name": "stdout",
     "output_type": "stream",
     "text": [
      "X shape : (32, 7500)\n",
      "Y shape : (32,)\n"
     ]
    }
   ],
   "source": [
    "print(\"X shape : {}\".format(str(X.shape)))\n",
    "print(\"Y shape : {}\".format(str(Y.shape)))"
   ]
  },
  {
   "cell_type": "markdown",
   "id": "f80872e9-f42a-42dc-8074-6a1c9e656e4f",
   "metadata": {},
   "source": [
    "# Réduction des dimensions"
   ]
  },
  {
   "cell_type": "code",
   "execution_count": 17,
   "id": "3561f212",
   "metadata": {},
   "outputs": [],
   "source": [
    "from sklearn.decomposition import PCA"
   ]
  },
  {
   "cell_type": "code",
   "execution_count": 18,
   "id": "6c7c7913",
   "metadata": {},
   "outputs": [],
   "source": [
    "#Appliquer PCA pour réduire les dimensions\n",
    "\n",
    "pca = PCA()"
   ]
  },
  {
   "cell_type": "code",
   "execution_count": 19,
   "id": "c8326fb2",
   "metadata": {},
   "outputs": [],
   "source": [
    "#Appliquer le fit_transform pour réduire les dimensions\n",
    "\n",
    "XPCA = pca.fit_transform(X)"
   ]
  },
  {
   "cell_type": "code",
   "execution_count": 20,
   "id": "33c2b2d6",
   "metadata": {},
   "outputs": [
    {
     "data": {
      "text/plain": [
       "(32, 32)"
      ]
     },
     "execution_count": 20,
     "metadata": {},
     "output_type": "execute_result"
    }
   ],
   "source": [
    "XPCA.shape"
   ]
  },
  {
   "cell_type": "code",
   "execution_count": 21,
   "id": "627f136b",
   "metadata": {},
   "outputs": [],
   "source": [
    "from sklearn.model_selection import train_test_split"
   ]
  },
  {
   "cell_type": "code",
   "execution_count": 22,
   "id": "7a78da24",
   "metadata": {},
   "outputs": [],
   "source": [
    "from xgboost import XGBClassifier"
   ]
  },
  {
   "cell_type": "code",
   "execution_count": 23,
   "id": "6b593c54",
   "metadata": {},
   "outputs": [
    {
     "data": {
      "text/plain": [
       "['Painting', 'Photo', 'Schematics', 'Sketch', 'Text']"
      ]
     },
     "execution_count": 23,
     "metadata": {},
     "output_type": "execute_result"
    }
   ],
   "source": [
    "class_names"
   ]
  },
  {
   "cell_type": "code",
   "execution_count": 24,
   "id": "231e409f",
   "metadata": {},
   "outputs": [
    {
     "name": "stdout",
     "output_type": "stream",
     "text": [
      "Learning score For XGBOOST: 1.0\n",
      "Generalization score For XGBOOST: 0.5714285714285714\n"
     ]
    }
   ],
   "source": [
    "# apprentissage avec XGBoost\n",
    "X_train, X_test, y_train, y_test = train_test_split(XPCA,Y, test_size=0.2)\n",
    "bst = XGBClassifier(n_estimators=100, max_depth=3, learning_rate=0.1, objective='binary:logistic')\n",
    "bst.fit(X_train, y_train)\n",
    "learningScoreXGB = bst.score(X_train, y_train)\n",
    "generalizationScoreXGB = bst.score(X_test, y_test)\n",
    "print('Learning score For XGBOOST: '+str(learningScoreXGB))\n",
    "print('Generalization score For XGBOOST: '+str(generalizationScoreXGB))"
   ]
  },
  {
   "cell_type": "code",
   "execution_count": 25,
   "id": "d9ebd6e9",
   "metadata": {},
   "outputs": [],
   "source": [
    "from sklearn.metrics import confusion_matrix\n",
    "import seaborn as sns\n",
    "import matplotlib.pyplot as plt"
   ]
  },
  {
   "cell_type": "code",
   "execution_count": 26,
   "id": "5d37a316",
   "metadata": {},
   "outputs": [],
   "source": [
    "# Prédire les classes sur l'ensemble de test\n",
    "y_pred = bst.predict(X_test)"
   ]
  },
  {
   "cell_type": "code",
   "execution_count": 27,
   "id": "1330db4f",
   "metadata": {},
   "outputs": [],
   "source": [
    "# Calculer la matrice de confusion\n",
    "cm = confusion_matrix(y_test, y_pred)"
   ]
  },
  {
   "cell_type": "code",
   "execution_count": 28,
   "id": "6e1a1838",
   "metadata": {},
   "outputs": [
    {
     "data": {
      "image/png": "[encoded data removed]",
      "text/plain": [
       "<Figure size 640x480 with 1 Axes>"
      ]
     },
     "metadata": {},
     "output_type": "display_data"
    }
   ],
   "source": [
    "# Afficher la matrice de confusion avec seaborn\n",
    "sns.heatmap(cm, annot=True, fmt=\"d\", cmap=\"Blues\", cbar=False)\n",
    "plt.xlabel(\"Prédictions\")\n",
    "plt.ylabel(\"Vraies valeurs\")\n",
    "plt.title(\"Matrice de Confusion - XGBoost\")\n",
    "plt.show()"
   ]
  },
  {
   "cell_type": "code",
   "execution_count": 29,
   "id": "c1881970",
   "metadata": {},
   "outputs": [],
   "source": [
    "from sklearn.metrics import accuracy_score"
   ]
  },
  {
   "cell_type": "code",
   "execution_count": 30,
   "id": "75abaa55",
   "metadata": {},
   "outputs": [],
   "source": [
    "# Calculer l'accuracy\n",
    "accuracy = accuracy_score(y_test, y_pred)"
   ]
  },
  {
   "cell_type": "code",
   "execution_count": 31,
   "id": "c57c2490",
   "metadata": {},
   "outputs": [
    {
     "name": "stdout",
     "output_type": "stream",
     "text": [
      "Accuracy : 57.14%\n"
     ]
    }
   ],
   "source": [
    "# Afficher l'accuracy\n",
    "print('Accuracy : {:.2f}%'.format(accuracy * 100))"
   ]
  },
  {
   "cell_type": "markdown",
   "id": "9622e0e5-f999-4884-b10c-fd913b7451a6",
   "metadata": {},
   "source": [
    "# Test avec DATA augmentation"
   ]
  },
  {
   "cell_type": "code",
   "execution_count": 32,
   "id": "602a18e7-6627-445b-96c7-645e4eb0a29e",
   "metadata": {},
   "outputs": [],
   "source": [
    "from tensorflow.keras.preprocessing.image import ImageDataGenerator\n"
   ]
  },
  {
   "cell_type": "code",
   "execution_count": 33,
   "id": "6365828f-4dd0-47cd-8ad8-818365439ac8",
   "metadata": {},
   "outputs": [],
   "source": [
    "datagen = ImageDataGenerator(\n",
    "    rescale=1./255,\n",
    "    shear_range=0.2,\n",
    "    zoom_range=0.2,\n",
    "    horizontal_flip=True\n",
    ")\n",
    "val_datagen = ImageDataGenerator(rescale=1./255)\n",
    "\n",
    "train_generator = datagen.flow(\n",
    "    images_train,\n",
    "    labels_train,\n",
    "    batch_size=32,\n",
    ")\n",
    "\n",
    "val_generator = datagen.flow(\n",
    "    images_test,\n",
    "    labels_test,\n",
    "    batch_size=32,\n",
    ")"
   ]
  },
  {
   "cell_type": "code",
   "execution_count": 34,
   "id": "d5b32f50-41ae-4503-b0cb-ac94a5aa8014",
   "metadata": {},
   "outputs": [],
   "source": [
    "X_aug, y_aug = train_generator.next()"
   ]
  },
  {
   "cell_type": "code",
   "execution_count": 35,
   "id": "1544530c-315c-464c-aad4-0c03f3bd3752",
   "metadata": {},
   "outputs": [
    {
     "data": {
      "text/plain": [
       "(32, 50, 50, 3)"
      ]
     },
     "execution_count": 35,
     "metadata": {},
     "output_type": "execute_result"
    }
   ],
   "source": [
    "X_aug.shape"
   ]
  },
  {
   "cell_type": "code",
   "execution_count": 36,
   "id": "20f216a0-fc37-47b0-abef-d10b738b5f92",
   "metadata": {},
   "outputs": [],
   "source": [
    "X_aug = X_aug.reshape(X_aug.shape[0], -1)"
   ]
  },
  {
   "cell_type": "code",
   "execution_count": 37,
   "id": "8a5736ab-4f93-45fa-bb44-337ea8bbc46a",
   "metadata": {},
   "outputs": [
    {
     "data": {
      "text/plain": [
       "(32, 7500)"
      ]
     },
     "execution_count": 37,
     "metadata": {},
     "output_type": "execute_result"
    }
   ],
   "source": [
    "X_aug.shape"
   ]
  },
  {
   "cell_type": "code",
   "execution_count": 38,
   "id": "42b26dd7-42af-4c0f-947a-2fdf0aa8d569",
   "metadata": {},
   "outputs": [],
   "source": [
    "XPCA_aug = pca.fit_transform(X_aug)"
   ]
  },
  {
   "cell_type": "code",
   "execution_count": 39,
   "id": "ca0a6813-5093-4639-86fb-793328215c3b",
   "metadata": {},
   "outputs": [],
   "source": [
    "bst = XGBClassifier(n_estimators=150, max_depth=3, objective='binary:logistic')"
   ]
  },
  {
   "cell_type": "code",
   "execution_count": 40,
   "id": "3067a300-a292-407d-b645-96691b9e2402",
   "metadata": {},
   "outputs": [
    {
     "data": {
      "text/html": [
       "<style>#sk-container-id-1 {color: black;}#sk-container-id-1 pre{padding: 0;}#sk-container-id-1 div.sk-toggleable {background-color: white;}#sk-container-id-1 label.sk-toggleable__label {cursor: pointer;display: block;width: 100%;margin-bottom: 0;padding: 0.3em;box-sizing: border-box;text-align: center;}#sk-container-id-1 label.sk-toggleable__label-arrow:before {content: \"▸\";float: left;margin-right: 0.25em;color: #696969;}#sk-container-id-1 label.sk-toggleable__label-arrow:hover:before {color: black;}#sk-container-id-1 div.sk-estimator:hover label.sk-toggleable__label-arrow:before {color: black;}#sk-container-id-1 div.sk-toggleable__content {max-height: 0;max-width: 0;overflow: hidden;text-align: left;background-color: #f0f8ff;}#sk-container-id-1 div.sk-toggleable__content pre {margin: 0.2em;color: black;border-radius: 0.25em;background-color: #f0f8ff;}#sk-container-id-1 input.sk-toggleable__control:checked~div.sk-toggleable__content {max-height: 200px;max-width: 100%;overflow: auto;}#sk-container-id-1 input.sk-toggleable__control:checked~label.sk-toggleable__label-arrow:before {content: \"▾\";}#sk-container-id-1 div.sk-estimator input.sk-toggleable__control:checked~label.sk-toggleable__label {background-color: #d4ebff;}#sk-container-id-1 div.sk-label input.sk-toggleable__control:checked~label.sk-toggleable__label {background-color: #d4ebff;}#sk-container-id-1 input.sk-hidden--visually {border: 0;clip: rect(1px 1px 1px 1px);clip: rect(1px, 1px, 1px, 1px);height: 1px;margin: -1px;overflow: hidden;padding: 0;position: absolute;width: 1px;}#sk-container-id-1 div.sk-estimator {font-family: monospace;background-color: #f0f8ff;border: 1px dotted black;border-radius: 0.25em;box-sizing: border-box;margin-bottom: 0.5em;}#sk-container-id-1 div.sk-estimator:hover {background-color: #d4ebff;}#sk-container-id-1 div.sk-parallel-item::after {content: \"\";width: 100%;border-bottom: 1px solid gray;flex-grow: 1;}#sk-container-id-1 div.sk-label:hover label.sk-toggleable__label {background-color: #d4ebff;}#sk-container-id-1 div.sk-serial::before {content: \"\";position: absolute;border-left: 1px solid gray;box-sizing: border-box;top: 0;bottom: 0;left: 50%;z-index: 0;}#sk-container-id-1 div.sk-serial {display: flex;flex-direction: column;align-items: center;background-color: white;padding-right: 0.2em;padding-left: 0.2em;position: relative;}#sk-container-id-1 div.sk-item {position: relative;z-index: 1;}#sk-container-id-1 div.sk-parallel {display: flex;align-items: stretch;justify-content: center;background-color: white;position: relative;}#sk-container-id-1 div.sk-item::before, #sk-container-id-1 div.sk-parallel-item::before {content: \"\";position: absolute;border-left: 1px solid gray;box-sizing: border-box;top: 0;bottom: 0;left: 50%;z-index: -1;}#sk-container-id-1 div.sk-parallel-item {display: flex;flex-direction: column;z-index: 1;position: relative;background-color: white;}#sk-container-id-1 div.sk-parallel-item:first-child::after {align-self: flex-end;width: 50%;}#sk-container-id-1 div.sk-parallel-item:last-child::after {align-self: flex-start;width: 50%;}#sk-container-id-1 div.sk-parallel-item:only-child::after {width: 0;}#sk-container-id-1 div.sk-dashed-wrapped {border: 1px dashed gray;margin: 0 0.4em 0.5em 0.4em;box-sizing: border-box;padding-bottom: 0.4em;background-color: white;}#sk-container-id-1 div.sk-label label {font-family: monospace;font-weight: bold;display: inline-block;line-height: 1.2em;}#sk-container-id-1 div.sk-label-container {text-align: center;}#sk-container-id-1 div.sk-container {/* jupyter's `normalize.less` sets `[hidden] { display: none; }` but bootstrap.min.css set `[hidden] { display: none !important; }` so we also need the `!important` here to be able to override the default hidden behavior on the sphinx rendered scikit-learn.org. See: https://github.com/scikit-learn/scikit-learn/issues/21755 */display: inline-block !important;position: relative;}#sk-container-id-1 div.sk-text-repr-fallback {display: none;}</style><div id=\"sk-container-id-1\" class=\"sk-top-container\"><div class=\"sk-text-repr-fallback\"><pre>XGBClassifier(base_score=None, booster=None, callbacks=None,\n",
       "              colsample_bylevel=None, colsample_bynode=None,\n",
       "              colsample_bytree=None, device=None, early_stopping_rounds=None,\n",
       "              enable_categorical=False, eval_metric=None, feature_types=None,\n",
       "              gamma=None, grow_policy=None, importance_type=None,\n",
       "              interaction_constraints=None, learning_rate=None, max_bin=None,\n",
       "              max_cat_threshold=None, max_cat_to_onehot=None,\n",
       "              max_delta_step=None, max_depth=3, max_leaves=None,\n",
       "              min_child_weight=None, missing=nan, monotone_constraints=None,\n",
       "              multi_strategy=None, n_estimators=150, n_jobs=None,\n",
       "              num_parallel_tree=None, random_state=None, ...)</pre><b>In a Jupyter environment, please rerun this cell to show the HTML representation or trust the notebook. <br />On GitHub, the HTML representation is unable to render, please try loading this page with nbviewer.org.</b></div><div class=\"sk-container\" hidden><div class=\"sk-item\"><div class=\"sk-estimator sk-toggleable\"><input class=\"sk-toggleable__control sk-hidden--visually\" id=\"sk-estimator-id-1\" type=\"checkbox\" checked><label for=\"sk-estimator-id-1\" class=\"sk-toggleable__label sk-toggleable__label-arrow\">XGBClassifier</label><div class=\"sk-toggleable__content\"><pre>XGBClassifier(base_score=None, booster=None, callbacks=None,\n",
       "              colsample_bylevel=None, colsample_bynode=None,\n",
       "              colsample_bytree=None, device=None, early_stopping_rounds=None,\n",
       "              enable_categorical=False, eval_metric=None, feature_types=None,\n",
       "              gamma=None, grow_policy=None, importance_type=None,\n",
       "              interaction_constraints=None, learning_rate=None, max_bin=None,\n",
       "              max_cat_threshold=None, max_cat_to_onehot=None,\n",
       "              max_delta_step=None, max_depth=3, max_leaves=None,\n",
       "              min_child_weight=None, missing=nan, monotone_constraints=None,\n",
       "              multi_strategy=None, n_estimators=150, n_jobs=None,\n",
       "              num_parallel_tree=None, random_state=None, ...)</pre></div></div></div></div></div>"
      ],
      "text/plain": [
       "XGBClassifier(base_score=None, booster=None, callbacks=None,\n",
       "              colsample_bylevel=None, colsample_bynode=None,\n",
       "              colsample_bytree=None, device=None, early_stopping_rounds=None,\n",
       "              enable_categorical=False, eval_metric=None, feature_types=None,\n",
       "              gamma=None, grow_policy=None, importance_type=None,\n",
       "              interaction_constraints=None, learning_rate=None, max_bin=None,\n",
       "              max_cat_threshold=None, max_cat_to_onehot=None,\n",
       "              max_delta_step=None, max_depth=3, max_leaves=None,\n",
       "              min_child_weight=None, missing=nan, monotone_constraints=None,\n",
       "              multi_strategy=None, n_estimators=150, n_jobs=None,\n",
       "              num_parallel_tree=None, random_state=None, ...)"
      ]
     },
     "execution_count": 40,
     "metadata": {},
     "output_type": "execute_result"
    }
   ],
   "source": [
    "Y_aug = y_aug\n",
    "Y_aug[Y_aug != 1] = 0\n",
    "X_train, X_test, y_train, y_test = train_test_split(XPCA_aug,Y_aug, test_size=0.2)\n",
    "bst.fit(X_train, y_train)"
   ]
  },
  {
   "cell_type": "code",
   "execution_count": 41,
   "id": "6e97df4c-8dc8-453e-aa97-4310b80b9bed",
   "metadata": {},
   "outputs": [
    {
     "name": "stdout",
     "output_type": "stream",
     "text": [
      "Learning score For XGBOOST: 1.0\n",
      "Generalization score For XGBOOST: 0.7142857142857143\n"
     ]
    }
   ],
   "source": [
    "learningScoreXGB = bst.score(X_train, y_train)\n",
    "generalizationScoreXGB = bst.score(X_test, y_test)\n",
    "print('Learning score For XGBOOST: '+str(learningScoreXGB))\n",
    "print('Generalization score For XGBOOST: '+str(generalizationScoreXGB))"
   ]
  },
  {
   "cell_type": "markdown",
   "id": "e216dec8-cade-4638-a161-b26a819557b0",
   "metadata": {},
   "source": [
    "# Enregistrement du model"
   ]
  },
  {
   "cell_type": "code",
   "execution_count": 42,
   "id": "7653a6ba-aff8-4669-b083-43d181a3a8cb",
   "metadata": {},
   "outputs": [
    {
     "name": "stdout",
     "output_type": "stream",
     "text": [
      "Requirement already satisfied: joblib in ./my-jupyter-env/lib/python3.10/site-packages (1.3.2)\n",
      "Note: you may need to restart the kernel to use updated packages.\n"
     ]
    }
   ],
   "source": [
    "pip install joblib"
   ]
  },
  {
   "cell_type": "code",
   "execution_count": 43,
   "id": "989a185c-891f-4400-9ea1-59e0268c440e",
   "metadata": {},
   "outputs": [
    {
     "data": {
      "text/plain": [
       "['boosting.joblib']"
      ]
     },
     "execution_count": 43,
     "metadata": {},
     "output_type": "execute_result"
    }
   ],
   "source": [
    "import joblib \n",
    "joblib.dump(bst, 'boosting.joblib')"
   ]
  },
  {
   "cell_type": "code",
   "execution_count": null,
   "id": "c6a5d36f-0aa2-411f-b4ed-0fe57c22ae0f",
   "metadata": {},
   "outputs": [],
   "source": []
  }
 ],
 "metadata": {
  "kernelspec": {
   "display_name": "Python 3 (ipykernel)",
   "language": "python",
   "name": "python3"
  },
  "language_info": {
   "codemirror_mode": {
    "name": "ipython",
    "version": 3
   },
   "file_extension": ".py",
   "mimetype": "text/x-python",
   "name": "python",
   "nbconvert_exporter": "python",
   "pygments_lexer": "ipython3",
   "version": "3.10.12"
  }
 },
 "nbformat": 4,
 "nbformat_minor": 5
}
